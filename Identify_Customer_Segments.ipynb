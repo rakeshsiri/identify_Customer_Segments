{
 "cells": [
  {
   "cell_type": "markdown",
   "metadata": {},
   "source": [
    "# Project: Identify Customer Segments\n",
    "\n",
    "In this project, you will apply unsupervised learning techniques to identify segments of the population that form the core customer base for a mail-order sales company in Germany. These segments can then be used to direct marketing campaigns towards audiences that will have the highest expected rate of returns. The data that you will use has been provided by our partners at Bertelsmann Arvato Analytics, and represents a real-life data science task.\n",
    "\n",
    "This notebook will help you complete this task by providing a framework within which you will perform your analysis steps. In each step of the project, you will see some text describing the subtask that you will perform, followed by one or more code cells for you to complete your work. **Feel free to add additional code and markdown cells as you go along so that you can explore everything in precise chunks.** The code cells provided in the base template will outline only the major tasks, and will usually not be enough to cover all of the minor tasks that comprise it.\n",
    "\n",
    "It should be noted that while there will be precise guidelines on how you should handle certain tasks in the project, there will also be places where an exact specification is not provided. **There will be times in the project where you will need to make and justify your own decisions on how to treat the data.** These are places where there may not be only one way to handle the data. In real-life tasks, there may be many valid ways to approach an analysis task. One of the most important things you can do is clearly document your approach so that other scientists can understand the decisions you've made.\n",
    "\n",
    "At the end of most sections, there will be a Markdown cell labeled **Discussion**. In these cells, you will report your findings for the completed section, as well as document the decisions that you made in your approach to each subtask. **Your project will be evaluated not just on the code used to complete the tasks outlined, but also your communication about your observations and conclusions at each stage.**"
   ]
  },
  {
   "cell_type": "code",
   "execution_count": 81,
   "metadata": {},
   "outputs": [],
   "source": [
    "# import libraries here; add more as necessary\n",
    "import numpy as np\n",
    "import pandas as pd\n",
    "import matplotlib.pyplot as plt\n",
    "import seaborn as sns\n",
    "from functools import reduce\n",
    "\n",
    "# magic word for producing visualizations in notebook\n",
    "%matplotlib inline"
   ]
  },
  {
   "cell_type": "markdown",
   "metadata": {},
   "source": [
    "### Step 0: Load the Data\n",
    "\n",
    "There are four files associated with this project (not including this one):\n",
    "\n",
    "- `Udacity_AZDIAS_Subset.csv`: Demographics data for the general population of Germany; 891211 persons (rows) x 85 features (columns).\n",
    "- `Udacity_CUSTOMERS_Subset.csv`: Demographics data for customers of a mail-order company; 191652 persons (rows) x 85 features (columns).\n",
    "- `Data_Dictionary.md`: Detailed information file about the features in the provided datasets.\n",
    "- `AZDIAS_Feature_Summary.csv`: Summary of feature attributes for demographics data; 85 features (rows) x 4 columns\n",
    "\n",
    "Each row of the demographics files represents a single person, but also includes information outside of individuals, including information about their household, building, and neighborhood. You will use this information to cluster the general population into groups with similar demographic properties. Then, you will see how the people in the customers dataset fit into those created clusters. The hope here is that certain clusters are over-represented in the customers data, as compared to the general population; those over-represented clusters will be assumed to be part of the core userbase. This information can then be used for further applications, such as targeting for a marketing campaign.\n",
    "\n",
    "To start off with, load in the demographics data for the general population into a pandas DataFrame, and do the same for the feature attributes summary. Note for all of the `.csv` data files in this project: they're semicolon (`;`) delimited, so you'll need an additional argument in your [`read_csv()`](https://pandas.pydata.org/pandas-docs/stable/generated/pandas.read_csv.html) call to read in the data properly. Also, considering the size of the main dataset, it may take some time for it to load completely.\n",
    "\n",
    "Once the dataset is loaded, it's recommended that you take a little bit of time just browsing the general structure of the dataset and feature summary file. You'll be getting deep into the innards of the cleaning in the first major step of the project, so gaining some general familiarity can help you get your bearings."
   ]
  },
  {
   "cell_type": "code",
   "execution_count": 2,
   "metadata": {},
   "outputs": [],
   "source": [
    "# Load in the general demographics data.\n",
    "azdias = pd.read_csv('Udacity_AZDIAS_Subset.csv',delimiter=';')\n",
    "\n",
    "# Load in the feature summary file.\n",
    "feat_info = pd.read_csv('AZDIAS_Feature_Summary.csv',delimiter=';')"
   ]
  },
  {
   "cell_type": "code",
   "execution_count": 3,
   "metadata": {},
   "outputs": [
    {
     "data": {
      "text/plain": [
       "((891221, 85), (85, 4))"
      ]
     },
     "execution_count": 3,
     "metadata": {},
     "output_type": "execute_result"
    }
   ],
   "source": [
    "# Check the structure of the data after it's loaded (e.g. print the number of\n",
    "# rows and columns, print the first few rows).\n",
    "\n",
    "azdias.shape, feat_info.shape"
   ]
  },
  {
   "cell_type": "code",
   "execution_count": 4,
   "metadata": {},
   "outputs": [
    {
     "data": {
      "text/html": [
       "<div>\n",
       "<style>\n",
       "    .dataframe thead tr:only-child th {\n",
       "        text-align: right;\n",
       "    }\n",
       "\n",
       "    .dataframe thead th {\n",
       "        text-align: left;\n",
       "    }\n",
       "\n",
       "    .dataframe tbody tr th {\n",
       "        vertical-align: top;\n",
       "    }\n",
       "</style>\n",
       "<table border=\"1\" class=\"dataframe\">\n",
       "  <thead>\n",
       "    <tr style=\"text-align: right;\">\n",
       "      <th></th>\n",
       "      <th>AGER_TYP</th>\n",
       "      <th>ALTERSKATEGORIE_GROB</th>\n",
       "      <th>ANREDE_KZ</th>\n",
       "      <th>CJT_GESAMTTYP</th>\n",
       "      <th>FINANZ_MINIMALIST</th>\n",
       "      <th>FINANZ_SPARER</th>\n",
       "      <th>FINANZ_VORSORGER</th>\n",
       "      <th>FINANZ_ANLEGER</th>\n",
       "      <th>FINANZ_UNAUFFAELLIGER</th>\n",
       "      <th>FINANZ_HAUSBAUER</th>\n",
       "      <th>...</th>\n",
       "      <th>PLZ8_ANTG1</th>\n",
       "      <th>PLZ8_ANTG2</th>\n",
       "      <th>PLZ8_ANTG3</th>\n",
       "      <th>PLZ8_ANTG4</th>\n",
       "      <th>PLZ8_BAUMAX</th>\n",
       "      <th>PLZ8_HHZ</th>\n",
       "      <th>PLZ8_GBZ</th>\n",
       "      <th>ARBEIT</th>\n",
       "      <th>ORTSGR_KLS9</th>\n",
       "      <th>RELAT_AB</th>\n",
       "    </tr>\n",
       "  </thead>\n",
       "  <tbody>\n",
       "    <tr>\n",
       "      <th>0</th>\n",
       "      <td>-1</td>\n",
       "      <td>2</td>\n",
       "      <td>1</td>\n",
       "      <td>2.0</td>\n",
       "      <td>3</td>\n",
       "      <td>4</td>\n",
       "      <td>3</td>\n",
       "      <td>5</td>\n",
       "      <td>5</td>\n",
       "      <td>3</td>\n",
       "      <td>...</td>\n",
       "      <td>NaN</td>\n",
       "      <td>NaN</td>\n",
       "      <td>NaN</td>\n",
       "      <td>NaN</td>\n",
       "      <td>NaN</td>\n",
       "      <td>NaN</td>\n",
       "      <td>NaN</td>\n",
       "      <td>NaN</td>\n",
       "      <td>NaN</td>\n",
       "      <td>NaN</td>\n",
       "    </tr>\n",
       "    <tr>\n",
       "      <th>1</th>\n",
       "      <td>-1</td>\n",
       "      <td>1</td>\n",
       "      <td>2</td>\n",
       "      <td>5.0</td>\n",
       "      <td>1</td>\n",
       "      <td>5</td>\n",
       "      <td>2</td>\n",
       "      <td>5</td>\n",
       "      <td>4</td>\n",
       "      <td>5</td>\n",
       "      <td>...</td>\n",
       "      <td>2.0</td>\n",
       "      <td>3.0</td>\n",
       "      <td>2.0</td>\n",
       "      <td>1.0</td>\n",
       "      <td>1.0</td>\n",
       "      <td>5.0</td>\n",
       "      <td>4.0</td>\n",
       "      <td>3.0</td>\n",
       "      <td>5.0</td>\n",
       "      <td>4.0</td>\n",
       "    </tr>\n",
       "    <tr>\n",
       "      <th>2</th>\n",
       "      <td>-1</td>\n",
       "      <td>3</td>\n",
       "      <td>2</td>\n",
       "      <td>3.0</td>\n",
       "      <td>1</td>\n",
       "      <td>4</td>\n",
       "      <td>1</td>\n",
       "      <td>2</td>\n",
       "      <td>3</td>\n",
       "      <td>5</td>\n",
       "      <td>...</td>\n",
       "      <td>3.0</td>\n",
       "      <td>3.0</td>\n",
       "      <td>1.0</td>\n",
       "      <td>0.0</td>\n",
       "      <td>1.0</td>\n",
       "      <td>4.0</td>\n",
       "      <td>4.0</td>\n",
       "      <td>3.0</td>\n",
       "      <td>5.0</td>\n",
       "      <td>2.0</td>\n",
       "    </tr>\n",
       "    <tr>\n",
       "      <th>3</th>\n",
       "      <td>2</td>\n",
       "      <td>4</td>\n",
       "      <td>2</td>\n",
       "      <td>2.0</td>\n",
       "      <td>4</td>\n",
       "      <td>2</td>\n",
       "      <td>5</td>\n",
       "      <td>2</td>\n",
       "      <td>1</td>\n",
       "      <td>2</td>\n",
       "      <td>...</td>\n",
       "      <td>2.0</td>\n",
       "      <td>2.0</td>\n",
       "      <td>2.0</td>\n",
       "      <td>0.0</td>\n",
       "      <td>1.0</td>\n",
       "      <td>3.0</td>\n",
       "      <td>4.0</td>\n",
       "      <td>2.0</td>\n",
       "      <td>3.0</td>\n",
       "      <td>3.0</td>\n",
       "    </tr>\n",
       "    <tr>\n",
       "      <th>4</th>\n",
       "      <td>-1</td>\n",
       "      <td>3</td>\n",
       "      <td>1</td>\n",
       "      <td>5.0</td>\n",
       "      <td>4</td>\n",
       "      <td>3</td>\n",
       "      <td>4</td>\n",
       "      <td>1</td>\n",
       "      <td>3</td>\n",
       "      <td>2</td>\n",
       "      <td>...</td>\n",
       "      <td>2.0</td>\n",
       "      <td>4.0</td>\n",
       "      <td>2.0</td>\n",
       "      <td>1.0</td>\n",
       "      <td>2.0</td>\n",
       "      <td>3.0</td>\n",
       "      <td>3.0</td>\n",
       "      <td>4.0</td>\n",
       "      <td>6.0</td>\n",
       "      <td>5.0</td>\n",
       "    </tr>\n",
       "  </tbody>\n",
       "</table>\n",
       "<p>5 rows × 85 columns</p>\n",
       "</div>"
      ],
      "text/plain": [
       "   AGER_TYP  ALTERSKATEGORIE_GROB  ANREDE_KZ  CJT_GESAMTTYP  \\\n",
       "0        -1                     2          1            2.0   \n",
       "1        -1                     1          2            5.0   \n",
       "2        -1                     3          2            3.0   \n",
       "3         2                     4          2            2.0   \n",
       "4        -1                     3          1            5.0   \n",
       "\n",
       "   FINANZ_MINIMALIST  FINANZ_SPARER  FINANZ_VORSORGER  FINANZ_ANLEGER  \\\n",
       "0                  3              4                 3               5   \n",
       "1                  1              5                 2               5   \n",
       "2                  1              4                 1               2   \n",
       "3                  4              2                 5               2   \n",
       "4                  4              3                 4               1   \n",
       "\n",
       "   FINANZ_UNAUFFAELLIGER  FINANZ_HAUSBAUER    ...     PLZ8_ANTG1  PLZ8_ANTG2  \\\n",
       "0                      5                 3    ...            NaN         NaN   \n",
       "1                      4                 5    ...            2.0         3.0   \n",
       "2                      3                 5    ...            3.0         3.0   \n",
       "3                      1                 2    ...            2.0         2.0   \n",
       "4                      3                 2    ...            2.0         4.0   \n",
       "\n",
       "   PLZ8_ANTG3  PLZ8_ANTG4  PLZ8_BAUMAX  PLZ8_HHZ  PLZ8_GBZ  ARBEIT  \\\n",
       "0         NaN         NaN          NaN       NaN       NaN     NaN   \n",
       "1         2.0         1.0          1.0       5.0       4.0     3.0   \n",
       "2         1.0         0.0          1.0       4.0       4.0     3.0   \n",
       "3         2.0         0.0          1.0       3.0       4.0     2.0   \n",
       "4         2.0         1.0          2.0       3.0       3.0     4.0   \n",
       "\n",
       "   ORTSGR_KLS9  RELAT_AB  \n",
       "0          NaN       NaN  \n",
       "1          5.0       4.0  \n",
       "2          5.0       2.0  \n",
       "3          3.0       3.0  \n",
       "4          6.0       5.0  \n",
       "\n",
       "[5 rows x 85 columns]"
      ]
     },
     "execution_count": 4,
     "metadata": {},
     "output_type": "execute_result"
    }
   ],
   "source": [
    "azdias.head()"
   ]
  },
  {
   "cell_type": "code",
   "execution_count": 5,
   "metadata": {},
   "outputs": [
    {
     "data": {
      "text/plain": [
       "Index(['AGER_TYP', 'ALTERSKATEGORIE_GROB', 'ANREDE_KZ', 'CJT_GESAMTTYP',\n",
       "       'FINANZ_MINIMALIST', 'FINANZ_SPARER', 'FINANZ_VORSORGER',\n",
       "       'FINANZ_ANLEGER', 'FINANZ_UNAUFFAELLIGER', 'FINANZ_HAUSBAUER',\n",
       "       'FINANZTYP', 'GEBURTSJAHR', 'GFK_URLAUBERTYP', 'GREEN_AVANTGARDE',\n",
       "       'HEALTH_TYP', 'LP_LEBENSPHASE_FEIN', 'LP_LEBENSPHASE_GROB',\n",
       "       'LP_FAMILIE_FEIN', 'LP_FAMILIE_GROB', 'LP_STATUS_FEIN',\n",
       "       'LP_STATUS_GROB', 'NATIONALITAET_KZ', 'PRAEGENDE_JUGENDJAHRE',\n",
       "       'RETOURTYP_BK_S', 'SEMIO_SOZ', 'SEMIO_FAM', 'SEMIO_REL', 'SEMIO_MAT',\n",
       "       'SEMIO_VERT', 'SEMIO_LUST', 'SEMIO_ERL', 'SEMIO_KULT', 'SEMIO_RAT',\n",
       "       'SEMIO_KRIT', 'SEMIO_DOM', 'SEMIO_KAEM', 'SEMIO_PFLICHT', 'SEMIO_TRADV',\n",
       "       'SHOPPER_TYP', 'SOHO_KZ', 'TITEL_KZ', 'VERS_TYP', 'ZABEOTYP',\n",
       "       'ALTER_HH', 'ANZ_PERSONEN', 'ANZ_TITEL', 'HH_EINKOMMEN_SCORE',\n",
       "       'KK_KUNDENTYP', 'W_KEIT_KIND_HH', 'WOHNDAUER_2008',\n",
       "       'ANZ_HAUSHALTE_AKTIV', 'ANZ_HH_TITEL', 'GEBAEUDETYP', 'KONSUMNAEHE',\n",
       "       'MIN_GEBAEUDEJAHR', 'OST_WEST_KZ', 'WOHNLAGE', 'CAMEO_DEUG_2015',\n",
       "       'CAMEO_DEU_2015', 'CAMEO_INTL_2015', 'KBA05_ANTG1', 'KBA05_ANTG2',\n",
       "       'KBA05_ANTG3', 'KBA05_ANTG4', 'KBA05_BAUMAX', 'KBA05_GBZ', 'BALLRAUM',\n",
       "       'EWDICHTE', 'INNENSTADT', 'GEBAEUDETYP_RASTER', 'KKK', 'MOBI_REGIO',\n",
       "       'ONLINE_AFFINITAET', 'REGIOTYP', 'KBA13_ANZAHL_PKW', 'PLZ8_ANTG1',\n",
       "       'PLZ8_ANTG2', 'PLZ8_ANTG3', 'PLZ8_ANTG4', 'PLZ8_BAUMAX', 'PLZ8_HHZ',\n",
       "       'PLZ8_GBZ', 'ARBEIT', 'ORTSGR_KLS9', 'RELAT_AB'],\n",
       "      dtype='object')"
      ]
     },
     "execution_count": 5,
     "metadata": {},
     "output_type": "execute_result"
    }
   ],
   "source": [
    "azdias.columns"
   ]
  },
  {
   "cell_type": "code",
   "execution_count": 6,
   "metadata": {},
   "outputs": [
    {
     "data": {
      "text/html": [
       "<div>\n",
       "<style>\n",
       "    .dataframe thead tr:only-child th {\n",
       "        text-align: right;\n",
       "    }\n",
       "\n",
       "    .dataframe thead th {\n",
       "        text-align: left;\n",
       "    }\n",
       "\n",
       "    .dataframe tbody tr th {\n",
       "        vertical-align: top;\n",
       "    }\n",
       "</style>\n",
       "<table border=\"1\" class=\"dataframe\">\n",
       "  <thead>\n",
       "    <tr style=\"text-align: right;\">\n",
       "      <th></th>\n",
       "      <th>attribute</th>\n",
       "      <th>information_level</th>\n",
       "      <th>type</th>\n",
       "      <th>missing_or_unknown</th>\n",
       "    </tr>\n",
       "  </thead>\n",
       "  <tbody>\n",
       "    <tr>\n",
       "      <th>0</th>\n",
       "      <td>AGER_TYP</td>\n",
       "      <td>person</td>\n",
       "      <td>categorical</td>\n",
       "      <td>[-1,0]</td>\n",
       "    </tr>\n",
       "    <tr>\n",
       "      <th>1</th>\n",
       "      <td>ALTERSKATEGORIE_GROB</td>\n",
       "      <td>person</td>\n",
       "      <td>ordinal</td>\n",
       "      <td>[-1,0,9]</td>\n",
       "    </tr>\n",
       "    <tr>\n",
       "      <th>2</th>\n",
       "      <td>ANREDE_KZ</td>\n",
       "      <td>person</td>\n",
       "      <td>categorical</td>\n",
       "      <td>[-1,0]</td>\n",
       "    </tr>\n",
       "    <tr>\n",
       "      <th>3</th>\n",
       "      <td>CJT_GESAMTTYP</td>\n",
       "      <td>person</td>\n",
       "      <td>categorical</td>\n",
       "      <td>[0]</td>\n",
       "    </tr>\n",
       "    <tr>\n",
       "      <th>4</th>\n",
       "      <td>FINANZ_MINIMALIST</td>\n",
       "      <td>person</td>\n",
       "      <td>ordinal</td>\n",
       "      <td>[-1]</td>\n",
       "    </tr>\n",
       "  </tbody>\n",
       "</table>\n",
       "</div>"
      ],
      "text/plain": [
       "              attribute information_level         type missing_or_unknown\n",
       "0              AGER_TYP            person  categorical             [-1,0]\n",
       "1  ALTERSKATEGORIE_GROB            person      ordinal           [-1,0,9]\n",
       "2             ANREDE_KZ            person  categorical             [-1,0]\n",
       "3         CJT_GESAMTTYP            person  categorical                [0]\n",
       "4     FINANZ_MINIMALIST            person      ordinal               [-1]"
      ]
     },
     "execution_count": 6,
     "metadata": {},
     "output_type": "execute_result"
    }
   ],
   "source": [
    "feat_info.head()"
   ]
  },
  {
   "cell_type": "code",
   "execution_count": 7,
   "metadata": {},
   "outputs": [
    {
     "data": {
      "text/html": [
       "<div>\n",
       "<style>\n",
       "    .dataframe thead tr:only-child th {\n",
       "        text-align: right;\n",
       "    }\n",
       "\n",
       "    .dataframe thead th {\n",
       "        text-align: left;\n",
       "    }\n",
       "\n",
       "    .dataframe tbody tr th {\n",
       "        vertical-align: top;\n",
       "    }\n",
       "</style>\n",
       "<table border=\"1\" class=\"dataframe\">\n",
       "  <thead>\n",
       "    <tr style=\"text-align: right;\">\n",
       "      <th></th>\n",
       "      <th>AGER_TYP</th>\n",
       "      <th>ALTERSKATEGORIE_GROB</th>\n",
       "      <th>ANREDE_KZ</th>\n",
       "      <th>CJT_GESAMTTYP</th>\n",
       "      <th>FINANZ_MINIMALIST</th>\n",
       "      <th>FINANZ_SPARER</th>\n",
       "      <th>FINANZ_VORSORGER</th>\n",
       "      <th>FINANZ_ANLEGER</th>\n",
       "      <th>FINANZ_UNAUFFAELLIGER</th>\n",
       "      <th>FINANZ_HAUSBAUER</th>\n",
       "      <th>...</th>\n",
       "      <th>PLZ8_ANTG1</th>\n",
       "      <th>PLZ8_ANTG2</th>\n",
       "      <th>PLZ8_ANTG3</th>\n",
       "      <th>PLZ8_ANTG4</th>\n",
       "      <th>PLZ8_BAUMAX</th>\n",
       "      <th>PLZ8_HHZ</th>\n",
       "      <th>PLZ8_GBZ</th>\n",
       "      <th>ARBEIT</th>\n",
       "      <th>ORTSGR_KLS9</th>\n",
       "      <th>RELAT_AB</th>\n",
       "    </tr>\n",
       "  </thead>\n",
       "  <tbody>\n",
       "    <tr>\n",
       "      <th>count</th>\n",
       "      <td>891221.000000</td>\n",
       "      <td>891221.000000</td>\n",
       "      <td>891221.000000</td>\n",
       "      <td>886367.000000</td>\n",
       "      <td>891221.000000</td>\n",
       "      <td>891221.000000</td>\n",
       "      <td>891221.000000</td>\n",
       "      <td>891221.000000</td>\n",
       "      <td>891221.000000</td>\n",
       "      <td>891221.000000</td>\n",
       "      <td>...</td>\n",
       "      <td>774706.000000</td>\n",
       "      <td>774706.000000</td>\n",
       "      <td>774706.000000</td>\n",
       "      <td>774706.000000</td>\n",
       "      <td>774706.000000</td>\n",
       "      <td>774706.000000</td>\n",
       "      <td>774706.000000</td>\n",
       "      <td>794005.000000</td>\n",
       "      <td>794005.000000</td>\n",
       "      <td>794005.00000</td>\n",
       "    </tr>\n",
       "    <tr>\n",
       "      <th>mean</th>\n",
       "      <td>-0.358435</td>\n",
       "      <td>2.777398</td>\n",
       "      <td>1.522098</td>\n",
       "      <td>3.632838</td>\n",
       "      <td>3.074528</td>\n",
       "      <td>2.821039</td>\n",
       "      <td>3.401106</td>\n",
       "      <td>3.033328</td>\n",
       "      <td>2.874167</td>\n",
       "      <td>3.075121</td>\n",
       "      <td>...</td>\n",
       "      <td>2.253330</td>\n",
       "      <td>2.801858</td>\n",
       "      <td>1.595426</td>\n",
       "      <td>0.699166</td>\n",
       "      <td>1.943913</td>\n",
       "      <td>3.612821</td>\n",
       "      <td>3.381087</td>\n",
       "      <td>3.167854</td>\n",
       "      <td>5.293002</td>\n",
       "      <td>3.07222</td>\n",
       "    </tr>\n",
       "    <tr>\n",
       "      <th>std</th>\n",
       "      <td>1.198724</td>\n",
       "      <td>1.068775</td>\n",
       "      <td>0.499512</td>\n",
       "      <td>1.595021</td>\n",
       "      <td>1.321055</td>\n",
       "      <td>1.464749</td>\n",
       "      <td>1.322134</td>\n",
       "      <td>1.529603</td>\n",
       "      <td>1.486731</td>\n",
       "      <td>1.353248</td>\n",
       "      <td>...</td>\n",
       "      <td>0.972008</td>\n",
       "      <td>0.920309</td>\n",
       "      <td>0.986736</td>\n",
       "      <td>0.727137</td>\n",
       "      <td>1.459654</td>\n",
       "      <td>0.973967</td>\n",
       "      <td>1.111598</td>\n",
       "      <td>1.002376</td>\n",
       "      <td>2.303739</td>\n",
       "      <td>1.36298</td>\n",
       "    </tr>\n",
       "    <tr>\n",
       "      <th>min</th>\n",
       "      <td>-1.000000</td>\n",
       "      <td>1.000000</td>\n",
       "      <td>1.000000</td>\n",
       "      <td>1.000000</td>\n",
       "      <td>1.000000</td>\n",
       "      <td>1.000000</td>\n",
       "      <td>1.000000</td>\n",
       "      <td>1.000000</td>\n",
       "      <td>1.000000</td>\n",
       "      <td>1.000000</td>\n",
       "      <td>...</td>\n",
       "      <td>0.000000</td>\n",
       "      <td>0.000000</td>\n",
       "      <td>0.000000</td>\n",
       "      <td>0.000000</td>\n",
       "      <td>1.000000</td>\n",
       "      <td>1.000000</td>\n",
       "      <td>1.000000</td>\n",
       "      <td>1.000000</td>\n",
       "      <td>0.000000</td>\n",
       "      <td>1.00000</td>\n",
       "    </tr>\n",
       "    <tr>\n",
       "      <th>25%</th>\n",
       "      <td>-1.000000</td>\n",
       "      <td>2.000000</td>\n",
       "      <td>1.000000</td>\n",
       "      <td>2.000000</td>\n",
       "      <td>2.000000</td>\n",
       "      <td>1.000000</td>\n",
       "      <td>3.000000</td>\n",
       "      <td>2.000000</td>\n",
       "      <td>2.000000</td>\n",
       "      <td>2.000000</td>\n",
       "      <td>...</td>\n",
       "      <td>1.000000</td>\n",
       "      <td>2.000000</td>\n",
       "      <td>1.000000</td>\n",
       "      <td>0.000000</td>\n",
       "      <td>1.000000</td>\n",
       "      <td>3.000000</td>\n",
       "      <td>3.000000</td>\n",
       "      <td>3.000000</td>\n",
       "      <td>4.000000</td>\n",
       "      <td>2.00000</td>\n",
       "    </tr>\n",
       "    <tr>\n",
       "      <th>50%</th>\n",
       "      <td>-1.000000</td>\n",
       "      <td>3.000000</td>\n",
       "      <td>2.000000</td>\n",
       "      <td>4.000000</td>\n",
       "      <td>3.000000</td>\n",
       "      <td>3.000000</td>\n",
       "      <td>3.000000</td>\n",
       "      <td>3.000000</td>\n",
       "      <td>3.000000</td>\n",
       "      <td>3.000000</td>\n",
       "      <td>...</td>\n",
       "      <td>2.000000</td>\n",
       "      <td>3.000000</td>\n",
       "      <td>2.000000</td>\n",
       "      <td>1.000000</td>\n",
       "      <td>1.000000</td>\n",
       "      <td>4.000000</td>\n",
       "      <td>3.000000</td>\n",
       "      <td>3.000000</td>\n",
       "      <td>5.000000</td>\n",
       "      <td>3.00000</td>\n",
       "    </tr>\n",
       "    <tr>\n",
       "      <th>75%</th>\n",
       "      <td>-1.000000</td>\n",
       "      <td>4.000000</td>\n",
       "      <td>2.000000</td>\n",
       "      <td>5.000000</td>\n",
       "      <td>4.000000</td>\n",
       "      <td>4.000000</td>\n",
       "      <td>5.000000</td>\n",
       "      <td>5.000000</td>\n",
       "      <td>4.000000</td>\n",
       "      <td>4.000000</td>\n",
       "      <td>...</td>\n",
       "      <td>3.000000</td>\n",
       "      <td>3.000000</td>\n",
       "      <td>2.000000</td>\n",
       "      <td>1.000000</td>\n",
       "      <td>3.000000</td>\n",
       "      <td>4.000000</td>\n",
       "      <td>4.000000</td>\n",
       "      <td>4.000000</td>\n",
       "      <td>7.000000</td>\n",
       "      <td>4.00000</td>\n",
       "    </tr>\n",
       "    <tr>\n",
       "      <th>max</th>\n",
       "      <td>3.000000</td>\n",
       "      <td>9.000000</td>\n",
       "      <td>2.000000</td>\n",
       "      <td>6.000000</td>\n",
       "      <td>5.000000</td>\n",
       "      <td>5.000000</td>\n",
       "      <td>5.000000</td>\n",
       "      <td>5.000000</td>\n",
       "      <td>5.000000</td>\n",
       "      <td>5.000000</td>\n",
       "      <td>...</td>\n",
       "      <td>4.000000</td>\n",
       "      <td>4.000000</td>\n",
       "      <td>3.000000</td>\n",
       "      <td>2.000000</td>\n",
       "      <td>5.000000</td>\n",
       "      <td>5.000000</td>\n",
       "      <td>5.000000</td>\n",
       "      <td>9.000000</td>\n",
       "      <td>9.000000</td>\n",
       "      <td>9.00000</td>\n",
       "    </tr>\n",
       "  </tbody>\n",
       "</table>\n",
       "<p>8 rows × 81 columns</p>\n",
       "</div>"
      ],
      "text/plain": [
       "            AGER_TYP  ALTERSKATEGORIE_GROB      ANREDE_KZ  CJT_GESAMTTYP  \\\n",
       "count  891221.000000         891221.000000  891221.000000  886367.000000   \n",
       "mean       -0.358435              2.777398       1.522098       3.632838   \n",
       "std         1.198724              1.068775       0.499512       1.595021   \n",
       "min        -1.000000              1.000000       1.000000       1.000000   \n",
       "25%        -1.000000              2.000000       1.000000       2.000000   \n",
       "50%        -1.000000              3.000000       2.000000       4.000000   \n",
       "75%        -1.000000              4.000000       2.000000       5.000000   \n",
       "max         3.000000              9.000000       2.000000       6.000000   \n",
       "\n",
       "       FINANZ_MINIMALIST  FINANZ_SPARER  FINANZ_VORSORGER  FINANZ_ANLEGER  \\\n",
       "count      891221.000000  891221.000000     891221.000000   891221.000000   \n",
       "mean            3.074528       2.821039          3.401106        3.033328   \n",
       "std             1.321055       1.464749          1.322134        1.529603   \n",
       "min             1.000000       1.000000          1.000000        1.000000   \n",
       "25%             2.000000       1.000000          3.000000        2.000000   \n",
       "50%             3.000000       3.000000          3.000000        3.000000   \n",
       "75%             4.000000       4.000000          5.000000        5.000000   \n",
       "max             5.000000       5.000000          5.000000        5.000000   \n",
       "\n",
       "       FINANZ_UNAUFFAELLIGER  FINANZ_HAUSBAUER      ...          PLZ8_ANTG1  \\\n",
       "count          891221.000000     891221.000000      ...       774706.000000   \n",
       "mean                2.874167          3.075121      ...            2.253330   \n",
       "std                 1.486731          1.353248      ...            0.972008   \n",
       "min                 1.000000          1.000000      ...            0.000000   \n",
       "25%                 2.000000          2.000000      ...            1.000000   \n",
       "50%                 3.000000          3.000000      ...            2.000000   \n",
       "75%                 4.000000          4.000000      ...            3.000000   \n",
       "max                 5.000000          5.000000      ...            4.000000   \n",
       "\n",
       "          PLZ8_ANTG2     PLZ8_ANTG3     PLZ8_ANTG4    PLZ8_BAUMAX  \\\n",
       "count  774706.000000  774706.000000  774706.000000  774706.000000   \n",
       "mean        2.801858       1.595426       0.699166       1.943913   \n",
       "std         0.920309       0.986736       0.727137       1.459654   \n",
       "min         0.000000       0.000000       0.000000       1.000000   \n",
       "25%         2.000000       1.000000       0.000000       1.000000   \n",
       "50%         3.000000       2.000000       1.000000       1.000000   \n",
       "75%         3.000000       2.000000       1.000000       3.000000   \n",
       "max         4.000000       3.000000       2.000000       5.000000   \n",
       "\n",
       "            PLZ8_HHZ       PLZ8_GBZ         ARBEIT    ORTSGR_KLS9  \\\n",
       "count  774706.000000  774706.000000  794005.000000  794005.000000   \n",
       "mean        3.612821       3.381087       3.167854       5.293002   \n",
       "std         0.973967       1.111598       1.002376       2.303739   \n",
       "min         1.000000       1.000000       1.000000       0.000000   \n",
       "25%         3.000000       3.000000       3.000000       4.000000   \n",
       "50%         4.000000       3.000000       3.000000       5.000000   \n",
       "75%         4.000000       4.000000       4.000000       7.000000   \n",
       "max         5.000000       5.000000       9.000000       9.000000   \n",
       "\n",
       "           RELAT_AB  \n",
       "count  794005.00000  \n",
       "mean        3.07222  \n",
       "std         1.36298  \n",
       "min         1.00000  \n",
       "25%         2.00000  \n",
       "50%         3.00000  \n",
       "75%         4.00000  \n",
       "max         9.00000  \n",
       "\n",
       "[8 rows x 81 columns]"
      ]
     },
     "execution_count": 7,
     "metadata": {},
     "output_type": "execute_result"
    }
   ],
   "source": [
    "azdias.describe()"
   ]
  },
  {
   "cell_type": "markdown",
   "metadata": {},
   "source": [
    "> **Tip**: Add additional cells to keep everything in reasonably-sized chunks! Keyboard shortcut `esc --> a` (press escape to enter command mode, then press the 'A' key) adds a new cell before the active cell, and `esc --> b` adds a new cell after the active cell. If you need to convert an active cell to a markdown cell, use `esc --> m` and to convert to a code cell, use `esc --> y`. \n",
    "\n",
    "## Step 1: Preprocessing\n",
    "\n",
    "### Step 1.1: Assess Missing Data\n",
    "\n",
    "The feature summary file contains a summary of properties for each demographics data column. You will use this file to help you make cleaning decisions during this stage of the project. First of all, you should assess the demographics data in terms of missing data. Pay attention to the following points as you perform your analysis, and take notes on what you observe. Make sure that you fill in the **Discussion** cell with your findings and decisions at the end of each step that has one!\n",
    "\n",
    "#### Step 1.1.1: Convert Missing Value Codes to NaNs\n",
    "The fourth column of the feature attributes summary (loaded in above as `feat_info`) documents the codes from the data dictionary that indicate missing or unknown data. While the file encodes this as a list (e.g. `[-1,0]`), this will get read in as a string object. You'll need to do a little bit of parsing to make use of it to identify and clean the data. Convert data that matches a 'missing' or 'unknown' value code into a numpy NaN value. You might want to see how much data takes on a 'missing' or 'unknown' code, and how much data is naturally missing, as a point of interest.\n",
    "\n",
    "**As one more reminder, you are encouraged to add additional cells to break up your analysis into manageable chunks.**"
   ]
  },
  {
   "cell_type": "code",
   "execution_count": 8,
   "metadata": {},
   "outputs": [],
   "source": [
    "def get_list(x):\n",
    "    a=[]\n",
    "    x=x[1:-1]\n",
    "    if x:\n",
    "        for i in x.split(','):\n",
    "            try:\n",
    "                a.append(eval(i))\n",
    "            except NameError:\n",
    "                a.append(i)\n",
    "        return a\n",
    "    else:\n",
    "        return []"
   ]
  },
  {
   "cell_type": "code",
   "execution_count": 9,
   "metadata": {},
   "outputs": [],
   "source": [
    "# Identify missing or unknown data values and convert them to NaNs.\n",
    "\n",
    "feat_info.missing_or_unknown = feat_info.missing_or_unknown.apply(get_list)"
   ]
  },
  {
   "cell_type": "code",
   "execution_count": 10,
   "metadata": {},
   "outputs": [
    {
     "data": {
      "text/html": [
       "<div>\n",
       "<style>\n",
       "    .dataframe thead tr:only-child th {\n",
       "        text-align: right;\n",
       "    }\n",
       "\n",
       "    .dataframe thead th {\n",
       "        text-align: left;\n",
       "    }\n",
       "\n",
       "    .dataframe tbody tr th {\n",
       "        vertical-align: top;\n",
       "    }\n",
       "</style>\n",
       "<table border=\"1\" class=\"dataframe\">\n",
       "  <thead>\n",
       "    <tr style=\"text-align: right;\">\n",
       "      <th></th>\n",
       "      <th>attribute</th>\n",
       "      <th>information_level</th>\n",
       "      <th>type</th>\n",
       "      <th>missing_or_unknown</th>\n",
       "    </tr>\n",
       "  </thead>\n",
       "  <tbody>\n",
       "    <tr>\n",
       "      <th>12</th>\n",
       "      <td>GFK_URLAUBERTYP</td>\n",
       "      <td>person</td>\n",
       "      <td>categorical</td>\n",
       "      <td>[]</td>\n",
       "    </tr>\n",
       "    <tr>\n",
       "      <th>22</th>\n",
       "      <td>PRAEGENDE_JUGENDJAHRE</td>\n",
       "      <td>person</td>\n",
       "      <td>mixed</td>\n",
       "      <td>[-1, 0]</td>\n",
       "    </tr>\n",
       "  </tbody>\n",
       "</table>\n",
       "</div>"
      ],
      "text/plain": [
       "                attribute information_level         type missing_or_unknown\n",
       "12        GFK_URLAUBERTYP            person  categorical                 []\n",
       "22  PRAEGENDE_JUGENDJAHRE            person        mixed            [-1, 0]"
      ]
     },
     "execution_count": 10,
     "metadata": {},
     "output_type": "execute_result"
    }
   ],
   "source": [
    "feat_info[feat_info.attribute.isin(['PRAEGENDE_JUGENDJAHRE','GFK_URLAUBERTYP'])]"
   ]
  },
  {
   "cell_type": "code",
   "execution_count": 11,
   "metadata": {},
   "outputs": [],
   "source": [
    "def replacing_with_nans(series, feat_info):\n",
    "    missing_vals = feat_info[feat_info.attribute == series.name].missing_or_unknown.values[0]\n",
    "    missing_vals.append(np.nan)\n",
    "    return series.replace(missing_vals,np.nan)\n",
    "    \n",
    "azdias = azdias.apply(replacing_with_nans,feat_info=feat_info)"
   ]
  },
  {
   "cell_type": "markdown",
   "metadata": {},
   "source": [
    "#### Step 1.1.2: Assess Missing Data in Each Column\n",
    "\n",
    "How much missing data is present in each column? There are a few columns that are outliers in terms of the proportion of values that are missing. You will want to use matplotlib's [`hist()`](https://matplotlib.org/api/_as_gen/matplotlib.pyplot.hist.html) function to visualize the distribution of missing value counts to find these columns. Identify and document these columns. While some of these columns might have justifications for keeping or re-encoding the data, for this project you should just remove them from the dataframe. (Feel free to make remarks about these outlier columns in the discussion, however!)\n",
    "\n",
    "For the remaining features, are there any patterns in which columns have, or share, missing data?"
   ]
  },
  {
   "cell_type": "code",
   "execution_count": 12,
   "metadata": {},
   "outputs": [],
   "source": [
    "# Perform an assessment of how much missing data there is in each column of the\n",
    "# dataset.\n",
    "missing_count_columns = azdias.isnull().sum().reset_index(name='missing').rename(columns={'index':'features'})\n",
    "missing_count_columns['missing_percent'] = missing_count_columns.missing/len(azdias)"
   ]
  },
  {
   "cell_type": "code",
   "execution_count": 13,
   "metadata": {},
   "outputs": [
    {
     "data": {
      "image/png": "[encoded data removed]",
      "text/plain": [
       "<matplotlib.figure.Figure at 0x7f152804f748>"
      ]
     },
     "metadata": {
      "needs_background": "light"
     },
     "output_type": "display_data"
    }
   ],
   "source": [
    "plt.figure(figsize=(20,20))\n",
    "sns.barplot(missing_count_columns.missing_percent, missing_count_columns.features,color=sns.color_palette()[0]);"
   ]
  },
  {
   "cell_type": "code",
   "execution_count": 14,
   "metadata": {},
   "outputs": [
    {
     "data": {
      "text/html": [
       "<div>\n",
       "<style>\n",
       "    .dataframe thead tr:only-child th {\n",
       "        text-align: right;\n",
       "    }\n",
       "\n",
       "    .dataframe thead th {\n",
       "        text-align: left;\n",
       "    }\n",
       "\n",
       "    .dataframe tbody tr th {\n",
       "        vertical-align: top;\n",
       "    }\n",
       "</style>\n",
       "<table border=\"1\" class=\"dataframe\">\n",
       "  <thead>\n",
       "    <tr style=\"text-align: right;\">\n",
       "      <th></th>\n",
       "      <th>features</th>\n",
       "      <th>missing</th>\n",
       "      <th>missing_percent</th>\n",
       "    </tr>\n",
       "  </thead>\n",
       "  <tbody>\n",
       "    <tr>\n",
       "      <th>40</th>\n",
       "      <td>TITEL_KZ</td>\n",
       "      <td>889061</td>\n",
       "      <td>0.997576</td>\n",
       "    </tr>\n",
       "    <tr>\n",
       "      <th>0</th>\n",
       "      <td>AGER_TYP</td>\n",
       "      <td>685843</td>\n",
       "      <td>0.769554</td>\n",
       "    </tr>\n",
       "    <tr>\n",
       "      <th>47</th>\n",
       "      <td>KK_KUNDENTYP</td>\n",
       "      <td>584612</td>\n",
       "      <td>0.655967</td>\n",
       "    </tr>\n",
       "    <tr>\n",
       "      <th>64</th>\n",
       "      <td>KBA05_BAUMAX</td>\n",
       "      <td>476524</td>\n",
       "      <td>0.534687</td>\n",
       "    </tr>\n",
       "    <tr>\n",
       "      <th>11</th>\n",
       "      <td>GEBURTSJAHR</td>\n",
       "      <td>392318</td>\n",
       "      <td>0.440203</td>\n",
       "    </tr>\n",
       "    <tr>\n",
       "      <th>43</th>\n",
       "      <td>ALTER_HH</td>\n",
       "      <td>310267</td>\n",
       "      <td>0.348137</td>\n",
       "    </tr>\n",
       "    <tr>\n",
       "      <th>70</th>\n",
       "      <td>KKK</td>\n",
       "      <td>158064</td>\n",
       "      <td>0.177357</td>\n",
       "    </tr>\n",
       "    <tr>\n",
       "      <th>73</th>\n",
       "      <td>REGIOTYP</td>\n",
       "      <td>158064</td>\n",
       "      <td>0.177357</td>\n",
       "    </tr>\n",
       "    <tr>\n",
       "      <th>48</th>\n",
       "      <td>W_KEIT_KIND_HH</td>\n",
       "      <td>147988</td>\n",
       "      <td>0.166051</td>\n",
       "    </tr>\n",
       "    <tr>\n",
       "      <th>60</th>\n",
       "      <td>KBA05_ANTG1</td>\n",
       "      <td>133324</td>\n",
       "      <td>0.149597</td>\n",
       "    </tr>\n",
       "    <tr>\n",
       "      <th>61</th>\n",
       "      <td>KBA05_ANTG2</td>\n",
       "      <td>133324</td>\n",
       "      <td>0.149597</td>\n",
       "    </tr>\n",
       "    <tr>\n",
       "      <th>62</th>\n",
       "      <td>KBA05_ANTG3</td>\n",
       "      <td>133324</td>\n",
       "      <td>0.149597</td>\n",
       "    </tr>\n",
       "    <tr>\n",
       "      <th>63</th>\n",
       "      <td>KBA05_ANTG4</td>\n",
       "      <td>133324</td>\n",
       "      <td>0.149597</td>\n",
       "    </tr>\n",
       "    <tr>\n",
       "      <th>65</th>\n",
       "      <td>KBA05_GBZ</td>\n",
       "      <td>133324</td>\n",
       "      <td>0.149597</td>\n",
       "    </tr>\n",
       "    <tr>\n",
       "      <th>71</th>\n",
       "      <td>MOBI_REGIO</td>\n",
       "      <td>133324</td>\n",
       "      <td>0.149597</td>\n",
       "    </tr>\n",
       "  </tbody>\n",
       "</table>\n",
       "</div>"
      ],
      "text/plain": [
       "          features  missing  missing_percent\n",
       "40        TITEL_KZ   889061         0.997576\n",
       "0         AGER_TYP   685843         0.769554\n",
       "47    KK_KUNDENTYP   584612         0.655967\n",
       "64    KBA05_BAUMAX   476524         0.534687\n",
       "11     GEBURTSJAHR   392318         0.440203\n",
       "43        ALTER_HH   310267         0.348137\n",
       "70             KKK   158064         0.177357\n",
       "73        REGIOTYP   158064         0.177357\n",
       "48  W_KEIT_KIND_HH   147988         0.166051\n",
       "60     KBA05_ANTG1   133324         0.149597\n",
       "61     KBA05_ANTG2   133324         0.149597\n",
       "62     KBA05_ANTG3   133324         0.149597\n",
       "63     KBA05_ANTG4   133324         0.149597\n",
       "65       KBA05_GBZ   133324         0.149597\n",
       "71      MOBI_REGIO   133324         0.149597"
      ]
     },
     "execution_count": 14,
     "metadata": {},
     "output_type": "execute_result"
    }
   ],
   "source": [
    "# Investigate patterns in the amount of missing data in each column\n",
    "missing_count_columns.nlargest(15,'missing_percent')"
   ]
  },
  {
   "cell_type": "code",
   "execution_count": 15,
   "metadata": {},
   "outputs": [
    {
     "data": {
      "text/plain": [
       "missing_percent\n",
       "0.000000    24\n",
       "0.003233     1\n",
       "0.005446     6\n",
       "0.020587     1\n",
       "0.082470     4\n",
       "0.082997     1\n",
       "0.087287     2\n",
       "0.104517     4\n",
       "0.104525     1\n",
       "0.105182     3\n",
       "0.106115     1\n",
       "0.108848     1\n",
       "0.109147     1\n",
       "0.109260     2\n",
       "0.109549     1\n",
       "0.111479     3\n",
       "0.111769     1\n",
       "0.118714     1\n",
       "0.121366     1\n",
       "0.121536     1\n",
       "0.124768     3\n",
       "0.130736     7\n",
       "0.149597     6\n",
       "0.166051     1\n",
       "0.177357     2\n",
       "0.348137     1\n",
       "0.440203     1\n",
       "0.534687     1\n",
       "0.655967     1\n",
       "0.769554     1\n",
       "0.997576     1\n",
       "Name: features, dtype: int64"
      ]
     },
     "execution_count": 15,
     "metadata": {},
     "output_type": "execute_result"
    }
   ],
   "source": [
    "missing_count_columns.groupby('missing_percent').count()['features']"
   ]
  },
  {
   "cell_type": "code",
   "execution_count": 16,
   "metadata": {},
   "outputs": [
    {
     "data": {
      "text/html": [
       "<div>\n",
       "<style>\n",
       "    .dataframe thead tr:only-child th {\n",
       "        text-align: right;\n",
       "    }\n",
       "\n",
       "    .dataframe thead th {\n",
       "        text-align: left;\n",
       "    }\n",
       "\n",
       "    .dataframe tbody tr th {\n",
       "        vertical-align: top;\n",
       "    }\n",
       "</style>\n",
       "<table border=\"1\" class=\"dataframe\">\n",
       "  <thead>\n",
       "    <tr style=\"text-align: right;\">\n",
       "      <th></th>\n",
       "      <th>features</th>\n",
       "      <th>missing</th>\n",
       "      <th>missing_percent</th>\n",
       "    </tr>\n",
       "  </thead>\n",
       "  <tbody>\n",
       "    <tr>\n",
       "      <th>2</th>\n",
       "      <td>ANREDE_KZ</td>\n",
       "      <td>0</td>\n",
       "      <td>0.0</td>\n",
       "    </tr>\n",
       "    <tr>\n",
       "      <th>4</th>\n",
       "      <td>FINANZ_MINIMALIST</td>\n",
       "      <td>0</td>\n",
       "      <td>0.0</td>\n",
       "    </tr>\n",
       "    <tr>\n",
       "      <th>5</th>\n",
       "      <td>FINANZ_SPARER</td>\n",
       "      <td>0</td>\n",
       "      <td>0.0</td>\n",
       "    </tr>\n",
       "    <tr>\n",
       "      <th>6</th>\n",
       "      <td>FINANZ_VORSORGER</td>\n",
       "      <td>0</td>\n",
       "      <td>0.0</td>\n",
       "    </tr>\n",
       "    <tr>\n",
       "      <th>7</th>\n",
       "      <td>FINANZ_ANLEGER</td>\n",
       "      <td>0</td>\n",
       "      <td>0.0</td>\n",
       "    </tr>\n",
       "  </tbody>\n",
       "</table>\n",
       "</div>"
      ],
      "text/plain": [
       "            features  missing  missing_percent\n",
       "2          ANREDE_KZ        0              0.0\n",
       "4  FINANZ_MINIMALIST        0              0.0\n",
       "5      FINANZ_SPARER        0              0.0\n",
       "6   FINANZ_VORSORGER        0              0.0\n",
       "7     FINANZ_ANLEGER        0              0.0"
      ]
     },
     "execution_count": 16,
     "metadata": {},
     "output_type": "execute_result"
    }
   ],
   "source": [
    "missing_count_columns.nsmallest(5,'missing_percent')"
   ]
  },
  {
   "cell_type": "code",
   "execution_count": 17,
   "metadata": {},
   "outputs": [
    {
     "name": "stdout",
     "output_type": "stream",
     "text": [
      "Columns removed:['TITEL_KZ', 'AGER_TYP', 'KK_KUNDENTYP']\n"
     ]
    }
   ],
   "source": [
    "# Remove the outlier columns from the dataset. (You'll perform other data\n",
    "# engineering tasks such as re-encoding and imputation later.)\n",
    "\n",
    "outlier_columns = list(missing_count_columns.nlargest(3,'missing_percent')['features'])\n",
    "print(f'Columns removed:{outlier_columns}')\n",
    "\n",
    "azdias = azdias.drop(outlier_columns,axis=1)"
   ]
  },
  {
   "cell_type": "markdown",
   "metadata": {},
   "source": [
    "#### Discussion 1.1.2: Assess Missing Data in Each Column\n",
    "\n",
    "Majority of the columns are having less than 15% data missing. Columns ['KK_KUNDENTYP', 'GEBURTSJAHR', 'ALTER_HH'] have more than 65%, 44%, 35% of missing data respectively, way more than any other columns. Hence, considering them as outliers, these columns are removed.\n",
    "\n",
    "There is consistency in no.of missing values in more than one set of columns.\n"
   ]
  },
  {
   "cell_type": "markdown",
   "metadata": {},
   "source": [
    "#### Step 1.1.3: Assess Missing Data in Each Row\n",
    "\n",
    "Now, you'll perform a similar assessment for the rows of the dataset. How much data is missing in each row? As with the columns, you should see some groups of points that have a very different numbers of missing values. Divide the data into two subsets: one for data points that are above some threshold for missing values, and a second subset for points below that threshold.\n",
    "\n",
    "In order to know what to do with the outlier rows, we should see if the distribution of data values on columns that are not missing data (or are missing very little data) are similar or different between the two groups. Select at least five of these columns and compare the distribution of values.\n",
    "- You can use seaborn's [`countplot()`](https://seaborn.pydata.org/generated/seaborn.countplot.html) function to create a bar chart of code frequencies and matplotlib's [`subplot()`](https://matplotlib.org/api/_as_gen/matplotlib.pyplot.subplot.html) function to put bar charts for the two subplots side by side.\n",
    "- To reduce repeated code, you might want to write a function that can perform this comparison, taking as one of its arguments a column to be compared.\n",
    "\n",
    "Depending on what you observe in your comparison, this will have implications on how you approach your conclusions later in the analysis. If the distributions of non-missing features look similar between the data with many missing values and the data with few or no missing values, then we could argue that simply dropping those points from the analysis won't present a major issue. On the other hand, if the data with many missing values looks very different from the data with few or no missing values, then we should make a note on those data as special. We'll revisit these data later on. **Either way, you should continue your analysis for now using just the subset of the data with few or no missing values.**"
   ]
  },
  {
   "cell_type": "code",
   "execution_count": 18,
   "metadata": {},
   "outputs": [],
   "source": [
    "# How much data is missing in each row of the dataset?\n",
    "missing_count_rows = azdias.isnull().sum(axis=1).reset_index(name='missing').rename(columns={'index':'rows_index'})\n",
    "missing_count_rows['missing_percent'] = missing_count_rows.missing/azdias.shape[1]"
   ]
  },
  {
   "cell_type": "code",
   "execution_count": 19,
   "metadata": {},
   "outputs": [
    {
     "data": {
      "text/html": [
       "<div>\n",
       "<style>\n",
       "    .dataframe thead tr:only-child th {\n",
       "        text-align: right;\n",
       "    }\n",
       "\n",
       "    .dataframe thead th {\n",
       "        text-align: left;\n",
       "    }\n",
       "\n",
       "    .dataframe tbody tr th {\n",
       "        vertical-align: top;\n",
       "    }\n",
       "</style>\n",
       "<table border=\"1\" class=\"dataframe\">\n",
       "  <thead>\n",
       "    <tr style=\"text-align: right;\">\n",
       "      <th></th>\n",
       "      <th>rows_index</th>\n",
       "      <th>missing</th>\n",
       "    </tr>\n",
       "    <tr>\n",
       "      <th>missing_percent</th>\n",
       "      <th></th>\n",
       "      <th></th>\n",
       "    </tr>\n",
       "  </thead>\n",
       "  <tbody>\n",
       "    <tr>\n",
       "      <th>0.621951</th>\n",
       "      <td>2</td>\n",
       "      <td>2</td>\n",
       "    </tr>\n",
       "    <tr>\n",
       "      <th>0.609756</th>\n",
       "      <td>45578</td>\n",
       "      <td>45578</td>\n",
       "    </tr>\n",
       "    <tr>\n",
       "      <th>0.597561</th>\n",
       "      <td>1</td>\n",
       "      <td>1</td>\n",
       "    </tr>\n",
       "    <tr>\n",
       "      <th>0.585366</th>\n",
       "      <td>486</td>\n",
       "      <td>486</td>\n",
       "    </tr>\n",
       "    <tr>\n",
       "      <th>0.573171</th>\n",
       "      <td>107</td>\n",
       "      <td>107</td>\n",
       "    </tr>\n",
       "  </tbody>\n",
       "</table>\n",
       "</div>"
      ],
      "text/plain": [
       "                 rows_index  missing\n",
       "missing_percent                     \n",
       "0.621951                  2        2\n",
       "0.609756              45578    45578\n",
       "0.597561                  1        1\n",
       "0.585366                486      486\n",
       "0.573171                107      107"
      ]
     },
     "execution_count": 19,
     "metadata": {},
     "output_type": "execute_result"
    }
   ],
   "source": [
    "missing_count_rows.groupby('missing_percent').count().sort_index(ascending=False).head()"
   ]
  },
  {
   "cell_type": "code",
   "execution_count": 20,
   "metadata": {},
   "outputs": [
    {
     "name": "stdout",
     "output_type": "stream",
     "text": [
      "azdias_sparse: (101042, 82)\n",
      "azdias_dense: (790179, 82)\n"
     ]
    }
   ],
   "source": [
    "# Write code to divide the data into two subsets based on the number of missing\n",
    "# values in each row.\n",
    "\n",
    "# Splitting out based on more than 20% missing values\n",
    "\n",
    "azdias_sparse = azdias[azdias.index.isin(missing_count_rows.rows_index[missing_count_rows.missing_percent >= 0.20])]\n",
    "azdias_dense = azdias[azdias.index.isin(missing_count_rows.rows_index[missing_count_rows.missing_percent < 0.20])]\n",
    "print('azdias_sparse:',azdias_sparse.shape)\n",
    "print('azdias_dense:',azdias_dense.shape)"
   ]
  },
  {
   "cell_type": "code",
   "execution_count": 21,
   "metadata": {},
   "outputs": [
    {
     "data": {
      "text/plain": [
       "['ZABEOTYP', 'SEMIO_MAT', 'SEMIO_DOM', 'SEMIO_KRIT', 'SEMIO_LUST']"
      ]
     },
     "execution_count": 21,
     "metadata": {},
     "output_type": "execute_result"
    }
   ],
   "source": [
    "# Compare the distribution of values for at least five columns where there are\n",
    "# no or few missing values, between the two subsets.\n",
    "\n",
    "columns_with_few_miss_vals = list(missing_count_columns.sort_values('missing_percent').head(20).sample(5)['features'])\n",
    "columns_with_few_miss_vals"
   ]
  },
  {
   "cell_type": "code",
   "execution_count": 22,
   "metadata": {},
   "outputs": [],
   "source": [
    "def cplot(col):    \n",
    "    fig, ax = plt.subplots(1,2,figsize=(12,5))\n",
    "    sns.countplot(azdias_dense[col],ax=ax[0],color=sns.color_palette()[0]).set_title('Dense (more values)')\n",
    "    sns.countplot(azdias_sparse[col],ax=ax[1],color=sns.color_palette()[0]).set_title('Sparse (less values)')\n",
    "    plt.show();"
   ]
  },
  {
   "cell_type": "code",
   "execution_count": 23,
   "metadata": {},
   "outputs": [
    {
     "data": {
      "image/png": "[encoded data removed]",
      "text/plain": [
       "<matplotlib.figure.Figure at 0x7f1525efa518>"
      ]
     },
     "metadata": {
      "needs_background": "light"
     },
     "output_type": "display_data"
    },
    {
     "data": {
      "image/png": "[encoded data removed]",
      "text/plain": [
       "<matplotlib.figure.Figure at 0x7f1525db5cc0>"
      ]
     },
     "metadata": {
      "needs_background": "light"
     },
     "output_type": "display_data"
    },
    {
     "data": {
      "image/png": "[encoded data removed]",
      "text/plain": [
       "<matplotlib.figure.Figure at 0x7f152447c7b8>"
      ]
     },
     "metadata": {
      "needs_background": "light"
     },
     "output_type": "display_data"
    },
    {
     "data": {
      "image/png": "[encoded data removed]",
      "text/plain": [
       "<matplotlib.figure.Figure at 0x7f152434f8d0>"
      ]
     },
     "metadata": {
      "needs_background": "light"
     },
     "output_type": "display_data"
    },
    {
     "data": {
      "image/png": "[encoded data removed]",
      "text/plain": [
       "<matplotlib.figure.Figure at 0x7f15243ae908>"
      ]
     },
     "metadata": {
      "needs_background": "light"
     },
     "output_type": "display_data"
    }
   ],
   "source": [
    "for i in columns_with_few_miss_vals:\n",
    "    cplot(i)"
   ]
  },
  {
   "cell_type": "markdown",
   "metadata": {},
   "source": [
    "#### Discussion 1.1.3: Assess Missing Data in Each Row\n",
    "\n",
    "The data with lot of missing values in rows are qualitatively different than those with few to no missing. Their distribution is not same.\n"
   ]
  },
  {
   "cell_type": "markdown",
   "metadata": {},
   "source": [
    "### Step 1.2: Select and Re-Encode Features\n",
    "\n",
    "Checking for missing data isn't the only way in which you can prepare a dataset for analysis. Since the unsupervised learning techniques to be used will only work on data that is encoded numerically, you need to make a few encoding changes or additional assumptions to be able to make progress. In addition, while almost all of the values in the dataset are encoded using numbers, not all of them represent numeric values. Check the third column of the feature summary (`feat_info`) for a summary of types of measurement.\n",
    "- For numeric and interval data, these features can be kept without changes.\n",
    "- Most of the variables in the dataset are ordinal in nature. While ordinal values may technically be non-linear in spacing, make the simplifying assumption that the ordinal variables can be treated as being interval in nature (that is, kept without any changes).\n",
    "- Special handling may be necessary for the remaining two variable types: categorical, and 'mixed'.\n",
    "\n",
    "In the first two parts of this sub-step, you will perform an investigation of the categorical and mixed-type features and make a decision on each of them, whether you will keep, drop, or re-encode each. Then, in the last part, you will create a new data frame with only the selected and engineered columns.\n",
    "\n",
    "Data wrangling is often the trickiest part of the data analysis process, and there's a lot of it to be done here. But stick with it: once you're done with this step, you'll be ready to get to the machine learning parts of the project!"
   ]
  },
  {
   "cell_type": "code",
   "execution_count": 24,
   "metadata": {},
   "outputs": [
    {
     "name": "stdout",
     "output_type": "stream",
     "text": [
      "mixed features: 7\n",
      "Categorical features: 18\n"
     ]
    }
   ],
   "source": [
    "# How many features are there of each data type?\n",
    "mixed_cols = [i for i in list(feat_info[feat_info.type=='mixed'].attribute) if i not in outlier_columns]\n",
    "cat_cols = [i for i in list(feat_info[feat_info.type=='categorical'].attribute) if i not in outlier_columns]\n",
    "\n",
    "print('mixed features:',len(mixed_cols))\n",
    "print('Categorical features:',len(cat_cols))"
   ]
  },
  {
   "cell_type": "markdown",
   "metadata": {},
   "source": [
    "#### Step 1.2.1: Re-Encode Categorical Features\n",
    "\n",
    "For categorical data, you would ordinarily need to encode the levels as dummy variables. Depending on the number of categories, perform one of the following:\n",
    "- For binary (two-level) categoricals that take numeric values, you can keep them without needing to do anything.\n",
    "- There is one binary variable that takes on non-numeric values. For this one, you need to re-encode the values as numbers or create a dummy variable.\n",
    "- For multi-level categoricals (three or more values), you can choose to encode the values using multiple dummy variables (e.g. via [OneHotEncoder](http://scikit-learn.org/stable/modules/generated/sklearn.preprocessing.OneHotEncoder.html)), or (to keep things straightforward) just drop them from the analysis. As always, document your choices in the Discussion section."
   ]
  },
  {
   "cell_type": "code",
   "execution_count": 25,
   "metadata": {},
   "outputs": [
    {
     "data": {
      "image/png": "[encoded data removed]",
      "text/plain": [
       "<matplotlib.figure.Figure at 0x7f152427f438>"
      ]
     },
     "metadata": {
      "needs_background": "light"
     },
     "output_type": "display_data"
    },
    {
     "data": {
      "image/png": "[encoded data removed]",
      "text/plain": [
       "<matplotlib.figure.Figure at 0x7f1524278b38>"
      ]
     },
     "metadata": {
      "needs_background": "light"
     },
     "output_type": "display_data"
    },
    {
     "data": {
      "image/png": "[encoded data removed]",
      "text/plain": [
       "<matplotlib.figure.Figure at 0x7f15241a2978>"
      ]
     },
     "metadata": {
      "needs_background": "light"
     },
     "output_type": "display_data"
    },
    {
     "data": {
      "image/png": "[encoded data removed]",
      "text/plain": [
       "<matplotlib.figure.Figure at 0x7f15240ee320>"
      ]
     },
     "metadata": {
      "needs_background": "light"
     },
     "output_type": "display_data"
    },
    {
     "data": {
      "image/png": "[encoded data removed]",
      "text/plain": [
       "<matplotlib.figure.Figure at 0x7f1524215940>"
      ]
     },
     "metadata": {
      "needs_background": "light"
     },
     "output_type": "display_data"
    },
    {
     "data": {
      "image/png": "[encoded data removed]",
      "text/plain": [
       "<matplotlib.figure.Figure at 0x7f15242dd438>"
      ]
     },
     "metadata": {
      "needs_background": "light"
     },
     "output_type": "display_data"
    },
    {
     "data": {
      "image/png": "[encoded data removed]",
      "text/plain": [
       "<matplotlib.figure.Figure at 0x7f15243056d8>"
      ]
     },
     "metadata": {
      "needs_background": "light"
     },
     "output_type": "display_data"
    },
    {
     "data": {
      "image/png": "[encoded data removed]",
      "text/plain": [
       "<matplotlib.figure.Figure at 0x7f15242787f0>"
      ]
     },
     "metadata": {
      "needs_background": "light"
     },
     "output_type": "display_data"
    },
    {
     "data": {
      "image/png": "[encoded data removed]",
      "text/plain": [
       "<matplotlib.figure.Figure at 0x7f15241aa828>"
      ]
     },
     "metadata": {
      "needs_background": "light"
     },
     "output_type": "display_data"
    },
    {
     "data": {
      "image/png": "[encoded data removed]",
      "text/plain": [
       "<matplotlib.figure.Figure at 0x7f1528128278>"
      ]
     },
     "metadata": {
      "needs_background": "light"
     },
     "output_type": "display_data"
    },
    {
     "data": {
      "image/png": "[encoded data removed]",
      "text/plain": [
       "<matplotlib.figure.Figure at 0x7f1524263400>"
      ]
     },
     "metadata": {
      "needs_background": "light"
     },
     "output_type": "display_data"
    },
    {
     "data": {
      "image/png": "[encoded data removed]",
      "text/plain": [
       "<matplotlib.figure.Figure at 0x7f15241f4518>"
      ]
     },
     "metadata": {
      "needs_background": "light"
     },
     "output_type": "display_data"
    },
    {
     "data": {
      "image/png": "[encoded data removed]",
      "text/plain": [
       "<matplotlib.figure.Figure at 0x7f1525ecfb70>"
      ]
     },
     "metadata": {
      "needs_background": "light"
     },
     "output_type": "display_data"
    },
    {
     "data": {
      "image/png": "[encoded data removed]",
      "text/plain": [
       "<matplotlib.figure.Figure at 0x7f14a203dda0>"
      ]
     },
     "metadata": {
      "needs_background": "light"
     },
     "output_type": "display_data"
    },
    {
     "data": {
      "image/png": "[encoded data removed]",
      "text/plain": [
       "<matplotlib.figure.Figure at 0x7f152422d978>"
      ]
     },
     "metadata": {
      "needs_background": "light"
     },
     "output_type": "display_data"
    },
    {
     "data": {
      "image/png": "[encoded data removed]",
      "text/plain": [
       "<matplotlib.figure.Figure at 0x7f1525db1518>"
      ]
     },
     "metadata": {
      "needs_background": "light"
     },
     "output_type": "display_data"
    },
    {
     "data": {
      "image/png": "[encoded data removed]",
      "text/plain": [
       "<matplotlib.figure.Figure at 0x7f1525dbd3c8>"
      ]
     },
     "metadata": {
      "needs_background": "light"
     },
     "output_type": "display_data"
    },
    {
     "data": {
      "image/png": "[encoded data removed]",
      "text/plain": [
       "<matplotlib.figure.Figure at 0x7f14a203d9b0>"
      ]
     },
     "metadata": {
      "needs_background": "light"
     },
     "output_type": "display_data"
    }
   ],
   "source": [
    "# Assess categorical variables: which are binary, which are multi-level, and\n",
    "# which one needs to be re-encoded?\n",
    "for col in cat_cols:\n",
    "    sns.countplot(azdias_dense[col],color=sns.color_palette()[0]).set_title(col);\n",
    "    plt.show();"
   ]
  },
  {
   "cell_type": "code",
   "execution_count": 26,
   "metadata": {},
   "outputs": [],
   "source": [
    "a=pd.DataFrame(azdias_dense[cat_cols].apply(lambda x:list(x.unique())),columns = ['vals'])\n",
    "a['count_unique'] = a['vals'].map(len)\n",
    "a['non_numeric'] = a['vals'].apply(lambda x:any([isinstance(i,(str)) for i in x]))"
   ]
  },
  {
   "cell_type": "code",
   "execution_count": 27,
   "metadata": {},
   "outputs": [
    {
     "data": {
      "text/html": [
       "<div>\n",
       "<style>\n",
       "    .dataframe thead tr:only-child th {\n",
       "        text-align: right;\n",
       "    }\n",
       "\n",
       "    .dataframe thead th {\n",
       "        text-align: left;\n",
       "    }\n",
       "\n",
       "    .dataframe tbody tr th {\n",
       "        vertical-align: top;\n",
       "    }\n",
       "</style>\n",
       "<table border=\"1\" class=\"dataframe\">\n",
       "  <thead>\n",
       "    <tr style=\"text-align: right;\">\n",
       "      <th></th>\n",
       "      <th>vals</th>\n",
       "      <th>count_unique</th>\n",
       "      <th>non_numeric</th>\n",
       "    </tr>\n",
       "  </thead>\n",
       "  <tbody>\n",
       "    <tr>\n",
       "      <th>ANREDE_KZ</th>\n",
       "      <td>[2, 1]</td>\n",
       "      <td>2</td>\n",
       "      <td>False</td>\n",
       "    </tr>\n",
       "    <tr>\n",
       "      <th>CJT_GESAMTTYP</th>\n",
       "      <td>[5.0, 3.0, 2.0, 4.0, 1.0, 6.0, nan]</td>\n",
       "      <td>7</td>\n",
       "      <td>False</td>\n",
       "    </tr>\n",
       "    <tr>\n",
       "      <th>FINANZTYP</th>\n",
       "      <td>[1, 6, 5, 2, 4, 3]</td>\n",
       "      <td>6</td>\n",
       "      <td>False</td>\n",
       "    </tr>\n",
       "    <tr>\n",
       "      <th>GFK_URLAUBERTYP</th>\n",
       "      <td>[10.0, 1.0, 5.0, 12.0, 9.0, 3.0, 8.0, 11.0, 4....</td>\n",
       "      <td>13</td>\n",
       "      <td>False</td>\n",
       "    </tr>\n",
       "    <tr>\n",
       "      <th>GREEN_AVANTGARDE</th>\n",
       "      <td>[0, 1]</td>\n",
       "      <td>2</td>\n",
       "      <td>False</td>\n",
       "    </tr>\n",
       "    <tr>\n",
       "      <th>LP_FAMILIE_FEIN</th>\n",
       "      <td>[5.0, 1.0, nan, 10.0, 2.0, 7.0, 11.0, 8.0, 4.0...</td>\n",
       "      <td>12</td>\n",
       "      <td>False</td>\n",
       "    </tr>\n",
       "    <tr>\n",
       "      <th>LP_FAMILIE_GROB</th>\n",
       "      <td>[3.0, 1.0, nan, 5.0, 2.0, 4.0]</td>\n",
       "      <td>6</td>\n",
       "      <td>False</td>\n",
       "    </tr>\n",
       "    <tr>\n",
       "      <th>LP_STATUS_FEIN</th>\n",
       "      <td>[2.0, 3.0, 9.0, 4.0, 1.0, 10.0, 5.0, 8.0, 6.0,...</td>\n",
       "      <td>11</td>\n",
       "      <td>False</td>\n",
       "    </tr>\n",
       "    <tr>\n",
       "      <th>LP_STATUS_GROB</th>\n",
       "      <td>[1.0, 2.0, 4.0, 5.0, 3.0, nan]</td>\n",
       "      <td>6</td>\n",
       "      <td>False</td>\n",
       "    </tr>\n",
       "    <tr>\n",
       "      <th>NATIONALITAET_KZ</th>\n",
       "      <td>[1.0, 3.0, 2.0, nan]</td>\n",
       "      <td>4</td>\n",
       "      <td>False</td>\n",
       "    </tr>\n",
       "    <tr>\n",
       "      <th>SHOPPER_TYP</th>\n",
       "      <td>[3.0, 2.0, 1.0, 0.0, nan]</td>\n",
       "      <td>5</td>\n",
       "      <td>False</td>\n",
       "    </tr>\n",
       "    <tr>\n",
       "      <th>SOHO_KZ</th>\n",
       "      <td>[1.0, 0.0]</td>\n",
       "      <td>2</td>\n",
       "      <td>False</td>\n",
       "    </tr>\n",
       "    <tr>\n",
       "      <th>VERS_TYP</th>\n",
       "      <td>[2.0, 1.0, nan]</td>\n",
       "      <td>3</td>\n",
       "      <td>False</td>\n",
       "    </tr>\n",
       "    <tr>\n",
       "      <th>ZABEOTYP</th>\n",
       "      <td>[5, 3, 4, 1, 6, 2]</td>\n",
       "      <td>6</td>\n",
       "      <td>False</td>\n",
       "    </tr>\n",
       "    <tr>\n",
       "      <th>GEBAEUDETYP</th>\n",
       "      <td>[8.0, 1.0, 3.0, 2.0, 6.0, 4.0, 5.0]</td>\n",
       "      <td>7</td>\n",
       "      <td>False</td>\n",
       "    </tr>\n",
       "    <tr>\n",
       "      <th>OST_WEST_KZ</th>\n",
       "      <td>[W, O]</td>\n",
       "      <td>2</td>\n",
       "      <td>True</td>\n",
       "    </tr>\n",
       "    <tr>\n",
       "      <th>CAMEO_DEUG_2015</th>\n",
       "      <td>[8, 4, 2, 6, 1, 9, 5, 7, 3, nan]</td>\n",
       "      <td>10</td>\n",
       "      <td>True</td>\n",
       "    </tr>\n",
       "    <tr>\n",
       "      <th>CAMEO_DEU_2015</th>\n",
       "      <td>[8A, 4C, 2A, 6B, 8C, 4A, 2D, 1A, 1E, 9D, 5C, 8...</td>\n",
       "      <td>45</td>\n",
       "      <td>True</td>\n",
       "    </tr>\n",
       "  </tbody>\n",
       "</table>\n",
       "</div>"
      ],
      "text/plain": [
       "                                                               vals  \\\n",
       "ANREDE_KZ                                                    [2, 1]   \n",
       "CJT_GESAMTTYP                   [5.0, 3.0, 2.0, 4.0, 1.0, 6.0, nan]   \n",
       "FINANZTYP                                        [1, 6, 5, 2, 4, 3]   \n",
       "GFK_URLAUBERTYP   [10.0, 1.0, 5.0, 12.0, 9.0, 3.0, 8.0, 11.0, 4....   \n",
       "GREEN_AVANTGARDE                                             [0, 1]   \n",
       "LP_FAMILIE_FEIN   [5.0, 1.0, nan, 10.0, 2.0, 7.0, 11.0, 8.0, 4.0...   \n",
       "LP_FAMILIE_GROB                      [3.0, 1.0, nan, 5.0, 2.0, 4.0]   \n",
       "LP_STATUS_FEIN    [2.0, 3.0, 9.0, 4.0, 1.0, 10.0, 5.0, 8.0, 6.0,...   \n",
       "LP_STATUS_GROB                       [1.0, 2.0, 4.0, 5.0, 3.0, nan]   \n",
       "NATIONALITAET_KZ                               [1.0, 3.0, 2.0, nan]   \n",
       "SHOPPER_TYP                               [3.0, 2.0, 1.0, 0.0, nan]   \n",
       "SOHO_KZ                                                  [1.0, 0.0]   \n",
       "VERS_TYP                                            [2.0, 1.0, nan]   \n",
       "ZABEOTYP                                         [5, 3, 4, 1, 6, 2]   \n",
       "GEBAEUDETYP                     [8.0, 1.0, 3.0, 2.0, 6.0, 4.0, 5.0]   \n",
       "OST_WEST_KZ                                                  [W, O]   \n",
       "CAMEO_DEUG_2015                    [8, 4, 2, 6, 1, 9, 5, 7, 3, nan]   \n",
       "CAMEO_DEU_2015    [8A, 4C, 2A, 6B, 8C, 4A, 2D, 1A, 1E, 9D, 5C, 8...   \n",
       "\n",
       "                  count_unique  non_numeric  \n",
       "ANREDE_KZ                    2        False  \n",
       "CJT_GESAMTTYP                7        False  \n",
       "FINANZTYP                    6        False  \n",
       "GFK_URLAUBERTYP             13        False  \n",
       "GREEN_AVANTGARDE             2        False  \n",
       "LP_FAMILIE_FEIN             12        False  \n",
       "LP_FAMILIE_GROB              6        False  \n",
       "LP_STATUS_FEIN              11        False  \n",
       "LP_STATUS_GROB               6        False  \n",
       "NATIONALITAET_KZ             4        False  \n",
       "SHOPPER_TYP                  5        False  \n",
       "SOHO_KZ                      2        False  \n",
       "VERS_TYP                     3        False  \n",
       "ZABEOTYP                     6        False  \n",
       "GEBAEUDETYP                  7        False  \n",
       "OST_WEST_KZ                  2         True  \n",
       "CAMEO_DEUG_2015             10         True  \n",
       "CAMEO_DEU_2015              45         True  "
      ]
     },
     "execution_count": 27,
     "metadata": {},
     "output_type": "execute_result"
    }
   ],
   "source": [
    "a"
   ]
  },
  {
   "cell_type": "code",
   "execution_count": 28,
   "metadata": {},
   "outputs": [
    {
     "name": "stdout",
     "output_type": "stream",
     "text": [
      "['ANREDE_KZ', 'GREEN_AVANTGARDE', 'SOHO_KZ', 'OST_WEST_KZ']\n",
      "['CJT_GESAMTTYP', 'FINANZTYP', 'GFK_URLAUBERTYP', 'LP_FAMILIE_FEIN', 'LP_FAMILIE_GROB', 'LP_STATUS_FEIN', 'LP_STATUS_GROB', 'NATIONALITAET_KZ', 'SHOPPER_TYP', 'VERS_TYP', 'ZABEOTYP', 'GEBAEUDETYP', 'CAMEO_DEUG_2015', 'CAMEO_DEU_2015']\n"
     ]
    }
   ],
   "source": [
    "binary_features = list(a.index[a.count_unique==2])\n",
    "multi_level_features = list(a.index[a.count_unique>2])\n",
    "print(binary_features)\n",
    "print(multi_level_features)"
   ]
  },
  {
   "cell_type": "code",
   "execution_count": 29,
   "metadata": {},
   "outputs": [],
   "source": [
    "# Re-encode categorical variable(s) to be kept in the analysis.\n",
    "dummy = pd.get_dummies(azdias_dense['OST_WEST_KZ'],prefix='OST_WEST_KZ')\n",
    "azdias_dense = pd.merge(azdias_dense, dummy, left_index=True, right_index=True)\\\n",
    "                        .drop(['OST_WEST_KZ'],axis=1)"
   ]
  },
  {
   "cell_type": "code",
   "execution_count": 30,
   "metadata": {},
   "outputs": [
    {
     "data": {
      "text/plain": [
       "Int64Index([     1,      2,      3,      4,      5,      6,      7,      8,\n",
       "                 9,     10,\n",
       "            ...\n",
       "            891211, 891212, 891213, 891214, 891215, 891216, 891217, 891218,\n",
       "            891219, 891220],\n",
       "           dtype='int64', length=790179)"
      ]
     },
     "execution_count": 30,
     "metadata": {},
     "output_type": "execute_result"
    }
   ],
   "source": [
    "azdias_dense.index"
   ]
  },
  {
   "cell_type": "markdown",
   "metadata": {},
   "source": [
    "#### Discussion 1.2.1: Re-Encode Categorical Features\n",
    "\n",
    "Obtianed dummy variables for non-numeric binary feature 'OST_WEST_KZ'. \n",
    "Drop all other categorical features by not cconsidering them.\n",
    "Total categorical featues after encoding is 5."
   ]
  },
  {
   "cell_type": "markdown",
   "metadata": {},
   "source": [
    "#### Step 1.2.2: Engineer Mixed-Type Features\n",
    "\n",
    "There are a handful of features that are marked as \"mixed\" in the feature summary that require special treatment in order to be included in the analysis. There are two in particular that deserve attention; the handling of the rest are up to your own choices:\n",
    "- \"PRAEGENDE_JUGENDJAHRE\" combines information on three dimensions: generation by decade, movement (mainstream vs. avantgarde), and nation (east vs. west). While there aren't enough levels to disentangle east from west, you should create two new variables to capture the other two dimensions: an interval-type variable for decade, and a binary variable for movement.\n",
    "- \"CAMEO_INTL_2015\" combines information on two axes: wealth and life stage. Break up the two-digit codes by their 'tens'-place and 'ones'-place digits into two new ordinal variables (which, for the purposes of this project, is equivalent to just treating them as their raw numeric values).\n",
    "- If you decide to keep or engineer new features around the other mixed-type features, make sure you note your steps in the Discussion section.\n",
    "\n",
    "Be sure to check `Data_Dictionary.md` for the details needed to finish these tasks."
   ]
  },
  {
   "cell_type": "code",
   "execution_count": 31,
   "metadata": {},
   "outputs": [
    {
     "data": {
      "text/plain": [
       "12     13102\n",
       "13     26096\n",
       "14     62394\n",
       "15     16890\n",
       "22     32827\n",
       "23     25684\n",
       "24     90454\n",
       "25     39319\n",
       "31     18475\n",
       "32     10282\n",
       "33      9818\n",
       "34     18404\n",
       "35     10292\n",
       "41     91896\n",
       "43     56382\n",
       "44     14733\n",
       "45     25981\n",
       "51    133322\n",
       "52     20488\n",
       "54     45239\n",
       "55     23805\n",
       "Name: CAMEO_INTL_2015, dtype: int64"
      ]
     },
     "execution_count": 31,
     "metadata": {},
     "output_type": "execute_result"
    }
   ],
   "source": [
    "# Investigate \"PRAEGENDE_JUGENDJAHRE\" and engineer two new variables.\n",
    "azdias_dense.CAMEO_INTL_2015.value_counts().sort_index()\n"
   ]
  },
  {
   "cell_type": "code",
   "execution_count": 32,
   "metadata": {},
   "outputs": [],
   "source": [
    "PRAEGENDE_JUGENDJAHRE_mapping ={1: ['40s', 'Mainstream'],\n",
    "                                2: ['40s', 'Avantgarde'],\n",
    "                                3: ['50s', 'Mainstream'],\n",
    "                                4: ['50s', 'Avantgarde'],\n",
    "                                5: ['60s', 'Mainstream'],\n",
    "                                6: ['60s', 'Avantgarde'],\n",
    "                                7: ['60s', 'Avantgarde'],\n",
    "                                8: ['70s', 'Mainstream'],\n",
    "                                9: ['70s', 'Avantgarde'],\n",
    "                                10: ['80s', 'Mainstream'],\n",
    "                                11: ['80s', 'Avantgarde'],\n",
    "                                12: ['80s', 'Mainstream'],\n",
    "                                13: ['80s', 'Avantgarde'],\n",
    "                                14: ['90s', 'Mainstream'],\n",
    "                                15: ['90s', 'Avantgarde']}"
   ]
  },
  {
   "cell_type": "code",
   "execution_count": 33,
   "metadata": {},
   "outputs": [],
   "source": [
    "def gen_mapped_dummies_df(s,mapping,col_names):\n",
    "    s = s.astype(float).map(mapping)\n",
    "    isnull = s.apply(lambda x:isinstance(x,float))==True\n",
    "    s.loc[isnull] = [[]]*isnull.sum()    \n",
    "    \n",
    "    a=s.apply(lambda x:x[0] if x else np.nan)\n",
    "    b=s.apply(lambda x:x[1] if x else np.nan)\n",
    "    return pd.get_dummies(pd.DataFrame(list(zip(a,b)),columns=col_names))"
   ]
  },
  {
   "cell_type": "code",
   "execution_count": 34,
   "metadata": {},
   "outputs": [],
   "source": [
    "PRAEGENDE_JUGENDJAHRE_df = gen_mapped_dummies_df(azdias_dense['PRAEGENDE_JUGENDJAHRE'],PRAEGENDE_JUGENDJAHRE_mapping,['PRAEGENDE_JUGENDJAHRE_generation','PRAEGENDE_JUGENDJAHRE_movement'])"
   ]
  },
  {
   "cell_type": "code",
   "execution_count": 35,
   "metadata": {},
   "outputs": [],
   "source": [
    "# Investigate \"CAMEO_INTL_2015\" and engineer two new variables.\n",
    "CAMEO_INTL_2015_mapping = { 11:['Wealthy Households','Pre-Family Couples & Singles'],\n",
    "                            12:['Wealthy Households','Young Couples With Children'],\n",
    "                            13:['Wealthy Households','Families With School Age Children'],\n",
    "                            14:['Wealthy Households','Older Families &  Mature Couples'],\n",
    "                            15:['Wealthy Households','Elders In Retirement'],\n",
    "                            21:['Prosperous Households','Pre-Family Couples & Singles'],\n",
    "                            22:['Prosperous Households','Young Couples With Children'],\n",
    "                            23:['Prosperous Households','Families With School Age Children'],\n",
    "                            24:['Prosperous Households','Older Families & Mature Couples'],\n",
    "                            25:['Prosperous Households','Elders In Retirement'],\n",
    "                            31:['Comfortable Households','Pre-Family Couples & Singles'],\n",
    "                            32:['Comfortable Households','Young Couples With Children'],\n",
    "                            33:['Comfortable Households','Families With School Age Children'],\n",
    "                            34:['Comfortable Households','Older Families & Mature Couples'],\n",
    "                            35:['Comfortable Households','Elders In Retirement'],\n",
    "                            41:['Less Affluent Households','Pre-Family Couples & Singles'],\n",
    "                            42:['Less Affluent Households','Young Couples With Children'],\n",
    "                            43:['Less Affluent Households','Families With School Age Children'],\n",
    "                            44:['Less Affluent Households','Older Families & Mature Couples'],\n",
    "                            45:['Less Affluent Households','Elders In Retirement'],\n",
    "                            51:['Poorer Households','Pre-Family Couples & Singles'],\n",
    "                            52:['Poorer Households','Young Couples With Children'],\n",
    "                            53:['Poorer Households','Families With School Age Children'],\n",
    "                            54:['Poorer Households','Older Families & Mature Couples'],\n",
    "                            55:['Poorer Households','Elders In Retirement']}"
   ]
  },
  {
   "cell_type": "code",
   "execution_count": 36,
   "metadata": {},
   "outputs": [],
   "source": [
    "CAMEO_INTL_2015_df = gen_mapped_dummies_df(azdias_dense['CAMEO_INTL_2015'],CAMEO_INTL_2015_mapping,['CAMEO_INTL_2015_wealth','CAMEO_INTL_2015_life_stage'])"
   ]
  },
  {
   "cell_type": "code",
   "execution_count": 37,
   "metadata": {},
   "outputs": [],
   "source": [
    "CAMEO_INTL_2015_df.index = azdias_dense.index\n",
    "PRAEGENDE_JUGENDJAHRE_df.index = azdias_dense.index"
   ]
  },
  {
   "cell_type": "code",
   "execution_count": 38,
   "metadata": {},
   "outputs": [
    {
     "name": "stdout",
     "output_type": "stream",
     "text": [
      "(790179, 11) (790179, 8)\n"
     ]
    }
   ],
   "source": [
    "print(CAMEO_INTL_2015_df.shape, PRAEGENDE_JUGENDJAHRE_df.shape)"
   ]
  },
  {
   "cell_type": "code",
   "execution_count": 39,
   "metadata": {},
   "outputs": [
    {
     "data": {
      "text/html": [
       "<div>\n",
       "<style>\n",
       "    .dataframe thead tr:only-child th {\n",
       "        text-align: right;\n",
       "    }\n",
       "\n",
       "    .dataframe thead th {\n",
       "        text-align: left;\n",
       "    }\n",
       "\n",
       "    .dataframe tbody tr th {\n",
       "        vertical-align: top;\n",
       "    }\n",
       "</style>\n",
       "<table border=\"1\" class=\"dataframe\">\n",
       "  <thead>\n",
       "    <tr style=\"text-align: right;\">\n",
       "      <th></th>\n",
       "      <th>CAMEO_INTL_2015_wealth_Comfortable Households</th>\n",
       "      <th>CAMEO_INTL_2015_wealth_Less Affluent Households</th>\n",
       "      <th>CAMEO_INTL_2015_wealth_Poorer Households</th>\n",
       "      <th>CAMEO_INTL_2015_wealth_Prosperous Households</th>\n",
       "      <th>CAMEO_INTL_2015_wealth_Wealthy Households</th>\n",
       "      <th>CAMEO_INTL_2015_life_stage_Elders In Retirement</th>\n",
       "      <th>CAMEO_INTL_2015_life_stage_Families With School Age Children</th>\n",
       "      <th>CAMEO_INTL_2015_life_stage_Older Families &amp;  Mature Couples</th>\n",
       "      <th>CAMEO_INTL_2015_life_stage_Older Families &amp; Mature Couples</th>\n",
       "      <th>CAMEO_INTL_2015_life_stage_Pre-Family Couples &amp; Singles</th>\n",
       "      <th>CAMEO_INTL_2015_life_stage_Young Couples With Children</th>\n",
       "    </tr>\n",
       "  </thead>\n",
       "  <tbody>\n",
       "    <tr>\n",
       "      <th>1</th>\n",
       "      <td>0</td>\n",
       "      <td>0</td>\n",
       "      <td>1</td>\n",
       "      <td>0</td>\n",
       "      <td>0</td>\n",
       "      <td>0</td>\n",
       "      <td>0</td>\n",
       "      <td>0</td>\n",
       "      <td>0</td>\n",
       "      <td>1</td>\n",
       "      <td>0</td>\n",
       "    </tr>\n",
       "    <tr>\n",
       "      <th>2</th>\n",
       "      <td>0</td>\n",
       "      <td>0</td>\n",
       "      <td>0</td>\n",
       "      <td>1</td>\n",
       "      <td>0</td>\n",
       "      <td>0</td>\n",
       "      <td>0</td>\n",
       "      <td>0</td>\n",
       "      <td>1</td>\n",
       "      <td>0</td>\n",
       "      <td>0</td>\n",
       "    </tr>\n",
       "    <tr>\n",
       "      <th>3</th>\n",
       "      <td>0</td>\n",
       "      <td>0</td>\n",
       "      <td>0</td>\n",
       "      <td>0</td>\n",
       "      <td>1</td>\n",
       "      <td>0</td>\n",
       "      <td>0</td>\n",
       "      <td>0</td>\n",
       "      <td>0</td>\n",
       "      <td>0</td>\n",
       "      <td>1</td>\n",
       "    </tr>\n",
       "    <tr>\n",
       "      <th>4</th>\n",
       "      <td>0</td>\n",
       "      <td>1</td>\n",
       "      <td>0</td>\n",
       "      <td>0</td>\n",
       "      <td>0</td>\n",
       "      <td>0</td>\n",
       "      <td>1</td>\n",
       "      <td>0</td>\n",
       "      <td>0</td>\n",
       "      <td>0</td>\n",
       "      <td>0</td>\n",
       "    </tr>\n",
       "    <tr>\n",
       "      <th>5</th>\n",
       "      <td>0</td>\n",
       "      <td>0</td>\n",
       "      <td>1</td>\n",
       "      <td>0</td>\n",
       "      <td>0</td>\n",
       "      <td>0</td>\n",
       "      <td>0</td>\n",
       "      <td>0</td>\n",
       "      <td>1</td>\n",
       "      <td>0</td>\n",
       "      <td>0</td>\n",
       "    </tr>\n",
       "  </tbody>\n",
       "</table>\n",
       "</div>"
      ],
      "text/plain": [
       "   CAMEO_INTL_2015_wealth_Comfortable Households  \\\n",
       "1                                              0   \n",
       "2                                              0   \n",
       "3                                              0   \n",
       "4                                              0   \n",
       "5                                              0   \n",
       "\n",
       "   CAMEO_INTL_2015_wealth_Less Affluent Households  \\\n",
       "1                                                0   \n",
       "2                                                0   \n",
       "3                                                0   \n",
       "4                                                1   \n",
       "5                                                0   \n",
       "\n",
       "   CAMEO_INTL_2015_wealth_Poorer Households  \\\n",
       "1                                         1   \n",
       "2                                         0   \n",
       "3                                         0   \n",
       "4                                         0   \n",
       "5                                         1   \n",
       "\n",
       "   CAMEO_INTL_2015_wealth_Prosperous Households  \\\n",
       "1                                             0   \n",
       "2                                             1   \n",
       "3                                             0   \n",
       "4                                             0   \n",
       "5                                             0   \n",
       "\n",
       "   CAMEO_INTL_2015_wealth_Wealthy Households  \\\n",
       "1                                          0   \n",
       "2                                          0   \n",
       "3                                          1   \n",
       "4                                          0   \n",
       "5                                          0   \n",
       "\n",
       "   CAMEO_INTL_2015_life_stage_Elders In Retirement  \\\n",
       "1                                                0   \n",
       "2                                                0   \n",
       "3                                                0   \n",
       "4                                                0   \n",
       "5                                                0   \n",
       "\n",
       "   CAMEO_INTL_2015_life_stage_Families With School Age Children  \\\n",
       "1                                                  0              \n",
       "2                                                  0              \n",
       "3                                                  0              \n",
       "4                                                  1              \n",
       "5                                                  0              \n",
       "\n",
       "   CAMEO_INTL_2015_life_stage_Older Families &  Mature Couples  \\\n",
       "1                                                  0             \n",
       "2                                                  0             \n",
       "3                                                  0             \n",
       "4                                                  0             \n",
       "5                                                  0             \n",
       "\n",
       "   CAMEO_INTL_2015_life_stage_Older Families & Mature Couples  \\\n",
       "1                                                  0            \n",
       "2                                                  1            \n",
       "3                                                  0            \n",
       "4                                                  0            \n",
       "5                                                  1            \n",
       "\n",
       "   CAMEO_INTL_2015_life_stage_Pre-Family Couples & Singles  \\\n",
       "1                                                  1         \n",
       "2                                                  0         \n",
       "3                                                  0         \n",
       "4                                                  0         \n",
       "5                                                  0         \n",
       "\n",
       "   CAMEO_INTL_2015_life_stage_Young Couples With Children  \n",
       "1                                                  0       \n",
       "2                                                  0       \n",
       "3                                                  1       \n",
       "4                                                  0       \n",
       "5                                                  0       "
      ]
     },
     "execution_count": 39,
     "metadata": {},
     "output_type": "execute_result"
    }
   ],
   "source": [
    "CAMEO_INTL_2015_df.head()"
   ]
  },
  {
   "cell_type": "markdown",
   "metadata": {},
   "source": [
    "#### Discussion 1.2.2: Engineer Mixed-Type Features\n",
    "\n",
    "Two mentioned features require similar operation, \n",
    "    1. Engineer 2 Features from each.\n",
    "    2. Create dummuy variables.\n",
    "  \n",
    "Hence a common function `gen_mapped_dummies_df` is written to perform this.\n",
    "\n",
    "Got matching indicies and concatinated all three dataframes consisting of 24 features after encoding. "
   ]
  },
  {
   "cell_type": "markdown",
   "metadata": {},
   "source": [
    "#### Step 1.2.3: Complete Feature Selection\n",
    "\n",
    "In order to finish this step up, you need to make sure that your data frame now only has the columns that you want to keep. To summarize, the dataframe should consist of the following:\n",
    "- All numeric, interval, and ordinal type columns from the original dataset.\n",
    "- Binary categorical features (all numerically-encoded).\n",
    "- Engineered features from other multi-level categorical features and mixed features.\n",
    "\n",
    "Make sure that for any new columns that you have engineered, that you've excluded the original columns from the final dataset. Otherwise, their values will interfere with the analysis later on the project. For example, you should not keep \"PRAEGENDE_JUGENDJAHRE\", since its values won't be useful for the algorithm: only the values derived from it in the engineered features you created should be retained. As a reminder, your data should only be from **the subset with few or no missing values**."
   ]
  },
  {
   "cell_type": "code",
   "execution_count": 40,
   "metadata": {},
   "outputs": [],
   "source": [
    "# If there are other re-engineering tasks you need to perform, make sure you\n",
    "# take care of them here. (Dealing with missing data will come in step 2.1.)\n",
    "\n",
    "azdias_dense.drop(mixed_cols+multi_level_features,axis=1,inplace=True)  #Dropping all other mixed features\n",
    "azdias_dense = reduce(lambda x,y:pd.merge(x,y,left_index=True,right_index=True),[azdias_dense,PRAEGENDE_JUGENDJAHRE_df,CAMEO_INTL_2015_df])"
   ]
  },
  {
   "cell_type": "code",
   "execution_count": 41,
   "metadata": {},
   "outputs": [
    {
     "name": "stdout",
     "output_type": "stream",
     "text": [
      "Expected no.of columns: 81\n",
      "Actual no.of columns: 81\n"
     ]
    }
   ],
   "source": [
    "# Do whatever you need to in order to ensure that the dataframe only contains\n",
    "# the columns that should be passed to the algorithm functions.\n",
    "\n",
    "#Checking for only required cols\n",
    "print('Expected no.of columns:',len(feat_info[feat_info.type.isin(['ordinal', 'numeric', 'interval'])]['attribute'].values)\\\n",
    "+5 + 11 + 8) #5 categorical features #(11+8)mixed features\n",
    "print('Actual no.of columns:',azdias_dense.shape[1])"
   ]
  },
  {
   "cell_type": "code",
   "execution_count": 42,
   "metadata": {},
   "outputs": [
    {
     "data": {
      "text/plain": [
       "[]"
      ]
     },
     "execution_count": 42,
     "metadata": {},
     "output_type": "execute_result"
    }
   ],
   "source": [
    "#Checking if all columns are matching\n",
    "d=list(feat_info[feat_info.type.isin(['ordinal', 'numeric', 'interval'])]['attribute'].values)\\\n",
    "+list(PRAEGENDE_JUGENDJAHRE_df.columns)+list(CAMEO_INTL_2015_df.columns)+['ANREDE_KZ', 'GREEN_AVANTGARDE', 'SOHO_KZ','OST_WEST_KZ_O', 'OST_WEST_KZ_W']\n",
    "[i for i in list(azdias_dense.columns) if i not in d ]"
   ]
  },
  {
   "cell_type": "markdown",
   "metadata": {},
   "source": [
    "### Step 1.3: Create a Cleaning Function\n",
    "\n",
    "Even though you've finished cleaning up the general population demographics data, it's important to look ahead to the future and realize that you'll need to perform the same cleaning steps on the customer demographics data. In this substep, complete the function below to execute the main feature selection, encoding, and re-engineering steps you performed above. Then, when it comes to looking at the customer data in Step 3, you can just run this function on that DataFrame to get the trimmed dataset in a single step."
   ]
  },
  {
   "cell_type": "code",
   "execution_count": 134,
   "metadata": {},
   "outputs": [],
   "source": [
    "def clean_data(df):\n",
    "    \"\"\"\n",
    "    Perform feature trimming, re-encoding, and engineering for demographics\n",
    "    data\n",
    "    \n",
    "    INPUT: Demographics DataFrame\n",
    "    OUTPUT: Trimmed and cleaned demographics DataFrame\n",
    "    \"\"\"\n",
    "    \n",
    "    # Put in code here to execute all main cleaning steps:\n",
    "    # convert missing value codes into NaNs, ...\n",
    "    print('Converting missing values to nans...')\n",
    "    df = df.apply(replacing_with_nans,feat_info=feat_info)\n",
    "    missing_count_columns = df.isnull().sum().reset_index(name='missing').rename(columns={'index':'features'})\n",
    "    missing_count_columns['missing_percent'] = missing_count_columns.missing/len(df)\n",
    "\n",
    "        \n",
    "    # remove selected columns and rows, ...\n",
    "    print('Removing selected columns and rows, ...')\n",
    "    df = df.drop(outlier_columns,axis=1)\n",
    "\n",
    "    missing_count_rows = df.isnull().sum(axis=1).reset_index(name='missing').rename(columns={'index':'rows_index'})\n",
    "    missing_count_rows['missing_percent'] = missing_count_rows.missing/df.shape[1]\n",
    "\n",
    "    df_sparse = df[df.index.isin(missing_count_rows.rows_index[missing_count_rows.missing_percent >= 0.20])]\n",
    "    df_dense = df[df.index.isin(missing_count_rows.rows_index[missing_count_rows.missing_percent < 0.20])]\n",
    "    print(f'Total rows:{len(df)}')\n",
    "    print(f'Considered rows:{len(df_dense)}')\n",
    "    print(f'Excluding rows(lot of missing values):{len(df_sparse)}')\n",
    "          \n",
    "    # select, re-encode, and engineer column values.\n",
    "    print('re-encode, and engineer column values...')\n",
    "    dummy1 = pd.get_dummies(df_dense['OST_WEST_KZ'],prefix='OST_WEST_KZ')\n",
    "    df_dense = pd.merge(df_dense, dummy1, left_index=True, right_index=True)\\\n",
    "                            .drop(['OST_WEST_KZ'],axis=1)\n",
    "\n",
    "    PRAEGENDE_JUGENDJAHRE_df1 = gen_mapped_dummies_df(df_dense['PRAEGENDE_JUGENDJAHRE'],PRAEGENDE_JUGENDJAHRE_mapping,['PRAEGENDE_JUGENDJAHRE_generation','PRAEGENDE_JUGENDJAHRE_movement'])\n",
    "    CAMEO_INTL_2015_df1 = gen_mapped_dummies_df(df_dense['CAMEO_INTL_2015'],CAMEO_INTL_2015_mapping,['CAMEO_INTL_2015_wealth','CAMEO_INTL_2015_life_stage'])\n",
    "\n",
    "    CAMEO_INTL_2015_df1.index = df_dense.index\n",
    "    PRAEGENDE_JUGENDJAHRE_df1.index = df_dense.index\n",
    "\n",
    "    # Return the cleaned dataframe.\n",
    "    print('Getting cleaned datafram...')\n",
    "    df_dense = df_dense.drop(mixed_cols+multi_level_features,axis=1)  #Dropping all other mixed features\n",
    "    df_dense = reduce(lambda x,y:pd.merge(x,y,left_index=True,right_index=True),[df_dense,PRAEGENDE_JUGENDJAHRE_df1,CAMEO_INTL_2015_df1])\n",
    "\n",
    "    print(\"Expecting 81 columns, result dataframe has:\",df_dense.shape[1])\n",
    "    \n",
    "    return df_dense\n",
    "    "
   ]
  },
  {
   "cell_type": "markdown",
   "metadata": {},
   "source": [
    "## Step 2: Feature Transformation\n",
    "\n",
    "### Step 2.1: Apply Feature Scaling\n",
    "\n",
    "Before we apply dimensionality reduction techniques to the data, we need to perform feature scaling so that the principal component vectors are not influenced by the natural differences in scale for features. Starting from this part of the project, you'll want to keep an eye on the [API reference page for sklearn](http://scikit-learn.org/stable/modules/classes.html) to help you navigate to all of the classes and functions that you'll need. In this substep, you'll need to check the following:\n",
    "\n",
    "- sklearn requires that data not have missing values in order for its estimators to work properly. So, before applying the scaler to your data, make sure that you've cleaned the DataFrame of the remaining missing values. This can be as simple as just removing all data points with missing data, or applying an [Imputer](http://scikit-learn.org/stable/modules/generated/sklearn.preprocessing.Imputer.html) to replace all missing values. You might also try a more complicated procedure where you temporarily remove missing values in order to compute the scaling parameters before re-introducing those missing values and applying imputation. Think about how much missing data you have and what possible effects each approach might have on your analysis, and justify your decision in the discussion section below.\n",
    "- For the actual scaling function, a [StandardScaler](http://scikit-learn.org/stable/modules/generated/sklearn.preprocessing.StandardScaler.html) instance is suggested, scaling each feature to mean 0 and standard deviation 1.\n",
    "- For these classes, you can make use of the `.fit_transform()` method to both fit a procedure to the data as well as apply the transformation to the data at the same time. Don't forget to keep the fit sklearn objects handy, since you'll be applying them to the customer demographics data towards the end of the project."
   ]
  },
  {
   "cell_type": "code",
   "execution_count": 44,
   "metadata": {},
   "outputs": [
    {
     "data": {
      "image/png": "[encoded data removed]",
      "text/plain": [
       "<matplotlib.figure.Figure at 0x7f15280b8eb8>"
      ]
     },
     "metadata": {
      "needs_background": "light"
     },
     "output_type": "display_data"
    }
   ],
   "source": [
    "# If you've not yet cleaned the dataset of all NaN values, then investigate and\n",
    "# do that now.\n",
    "\n",
    "azdias_dense.isnull().sum().reset_index().plot();"
   ]
  },
  {
   "cell_type": "code",
   "execution_count": 45,
   "metadata": {},
   "outputs": [
    {
     "data": {
      "text/html": [
       "<div>\n",
       "<style>\n",
       "    .dataframe thead tr:only-child th {\n",
       "        text-align: right;\n",
       "    }\n",
       "\n",
       "    .dataframe thead th {\n",
       "        text-align: left;\n",
       "    }\n",
       "\n",
       "    .dataframe tbody tr th {\n",
       "        vertical-align: top;\n",
       "    }\n",
       "</style>\n",
       "<table border=\"1\" class=\"dataframe\">\n",
       "  <thead>\n",
       "    <tr style=\"text-align: right;\">\n",
       "      <th></th>\n",
       "      <th>ALTERSKATEGORIE_GROB</th>\n",
       "      <th>ANREDE_KZ</th>\n",
       "      <th>FINANZ_MINIMALIST</th>\n",
       "      <th>FINANZ_SPARER</th>\n",
       "      <th>FINANZ_VORSORGER</th>\n",
       "      <th>FINANZ_ANLEGER</th>\n",
       "      <th>FINANZ_UNAUFFAELLIGER</th>\n",
       "      <th>FINANZ_HAUSBAUER</th>\n",
       "      <th>GEBURTSJAHR</th>\n",
       "      <th>GREEN_AVANTGARDE</th>\n",
       "      <th>...</th>\n",
       "      <th>CAMEO_INTL_2015_wealth_Less Affluent Households</th>\n",
       "      <th>CAMEO_INTL_2015_wealth_Poorer Households</th>\n",
       "      <th>CAMEO_INTL_2015_wealth_Prosperous Households</th>\n",
       "      <th>CAMEO_INTL_2015_wealth_Wealthy Households</th>\n",
       "      <th>CAMEO_INTL_2015_life_stage_Elders In Retirement</th>\n",
       "      <th>CAMEO_INTL_2015_life_stage_Families With School Age Children</th>\n",
       "      <th>CAMEO_INTL_2015_life_stage_Older Families &amp;  Mature Couples</th>\n",
       "      <th>CAMEO_INTL_2015_life_stage_Older Families &amp; Mature Couples</th>\n",
       "      <th>CAMEO_INTL_2015_life_stage_Pre-Family Couples &amp; Singles</th>\n",
       "      <th>CAMEO_INTL_2015_life_stage_Young Couples With Children</th>\n",
       "    </tr>\n",
       "  </thead>\n",
       "  <tbody>\n",
       "    <tr>\n",
       "      <th>count</th>\n",
       "      <td>787461.000000</td>\n",
       "      <td>790179.000000</td>\n",
       "      <td>790179.000000</td>\n",
       "      <td>790179.000000</td>\n",
       "      <td>790179.000000</td>\n",
       "      <td>790179.000000</td>\n",
       "      <td>790179.000000</td>\n",
       "      <td>790179.000000</td>\n",
       "      <td>483560.000000</td>\n",
       "      <td>790179.000000</td>\n",
       "      <td>...</td>\n",
       "      <td>790179.000000</td>\n",
       "      <td>790179.000000</td>\n",
       "      <td>790179.000000</td>\n",
       "      <td>790179.000000</td>\n",
       "      <td>790179.000000</td>\n",
       "      <td>790179.000000</td>\n",
       "      <td>790179.000000</td>\n",
       "      <td>790179.00000</td>\n",
       "      <td>790179.000000</td>\n",
       "      <td>790179.000000</td>\n",
       "    </tr>\n",
       "    <tr>\n",
       "      <th>mean</th>\n",
       "      <td>2.796039</td>\n",
       "      <td>1.521400</td>\n",
       "      <td>3.056304</td>\n",
       "      <td>2.713938</td>\n",
       "      <td>3.435057</td>\n",
       "      <td>2.839376</td>\n",
       "      <td>2.646976</td>\n",
       "      <td>3.126832</td>\n",
       "      <td>1967.058508</td>\n",
       "      <td>0.220124</td>\n",
       "      <td>...</td>\n",
       "      <td>0.239176</td>\n",
       "      <td>0.282030</td>\n",
       "      <td>0.238280</td>\n",
       "      <td>0.149943</td>\n",
       "      <td>0.147165</td>\n",
       "      <td>0.149308</td>\n",
       "      <td>0.078962</td>\n",
       "      <td>0.21366</td>\n",
       "      <td>0.308402</td>\n",
       "      <td>0.097065</td>\n",
       "    </tr>\n",
       "    <tr>\n",
       "      <th>std</th>\n",
       "      <td>1.018653</td>\n",
       "      <td>0.499542</td>\n",
       "      <td>1.377550</td>\n",
       "      <td>1.485466</td>\n",
       "      <td>1.377146</td>\n",
       "      <td>1.472382</td>\n",
       "      <td>1.396868</td>\n",
       "      <td>1.404373</td>\n",
       "      <td>17.795855</td>\n",
       "      <td>0.414330</td>\n",
       "      <td>...</td>\n",
       "      <td>0.426581</td>\n",
       "      <td>0.449988</td>\n",
       "      <td>0.426032</td>\n",
       "      <td>0.357016</td>\n",
       "      <td>0.354271</td>\n",
       "      <td>0.356392</td>\n",
       "      <td>0.269679</td>\n",
       "      <td>0.40989</td>\n",
       "      <td>0.461834</td>\n",
       "      <td>0.296047</td>\n",
       "    </tr>\n",
       "    <tr>\n",
       "      <th>min</th>\n",
       "      <td>1.000000</td>\n",
       "      <td>1.000000</td>\n",
       "      <td>1.000000</td>\n",
       "      <td>1.000000</td>\n",
       "      <td>1.000000</td>\n",
       "      <td>1.000000</td>\n",
       "      <td>1.000000</td>\n",
       "      <td>1.000000</td>\n",
       "      <td>1900.000000</td>\n",
       "      <td>0.000000</td>\n",
       "      <td>...</td>\n",
       "      <td>0.000000</td>\n",
       "      <td>0.000000</td>\n",
       "      <td>0.000000</td>\n",
       "      <td>0.000000</td>\n",
       "      <td>0.000000</td>\n",
       "      <td>0.000000</td>\n",
       "      <td>0.000000</td>\n",
       "      <td>0.00000</td>\n",
       "      <td>0.000000</td>\n",
       "      <td>0.000000</td>\n",
       "    </tr>\n",
       "    <tr>\n",
       "      <th>25%</th>\n",
       "      <td>2.000000</td>\n",
       "      <td>1.000000</td>\n",
       "      <td>2.000000</td>\n",
       "      <td>1.000000</td>\n",
       "      <td>2.000000</td>\n",
       "      <td>1.000000</td>\n",
       "      <td>1.000000</td>\n",
       "      <td>2.000000</td>\n",
       "      <td>1955.000000</td>\n",
       "      <td>0.000000</td>\n",
       "      <td>...</td>\n",
       "      <td>0.000000</td>\n",
       "      <td>0.000000</td>\n",
       "      <td>0.000000</td>\n",
       "      <td>0.000000</td>\n",
       "      <td>0.000000</td>\n",
       "      <td>0.000000</td>\n",
       "      <td>0.000000</td>\n",
       "      <td>0.00000</td>\n",
       "      <td>0.000000</td>\n",
       "      <td>0.000000</td>\n",
       "    </tr>\n",
       "    <tr>\n",
       "      <th>50%</th>\n",
       "      <td>3.000000</td>\n",
       "      <td>2.000000</td>\n",
       "      <td>3.000000</td>\n",
       "      <td>3.000000</td>\n",
       "      <td>4.000000</td>\n",
       "      <td>3.000000</td>\n",
       "      <td>2.000000</td>\n",
       "      <td>3.000000</td>\n",
       "      <td>1967.000000</td>\n",
       "      <td>0.000000</td>\n",
       "      <td>...</td>\n",
       "      <td>0.000000</td>\n",
       "      <td>0.000000</td>\n",
       "      <td>0.000000</td>\n",
       "      <td>0.000000</td>\n",
       "      <td>0.000000</td>\n",
       "      <td>0.000000</td>\n",
       "      <td>0.000000</td>\n",
       "      <td>0.00000</td>\n",
       "      <td>0.000000</td>\n",
       "      <td>0.000000</td>\n",
       "    </tr>\n",
       "    <tr>\n",
       "      <th>75%</th>\n",
       "      <td>4.000000</td>\n",
       "      <td>2.000000</td>\n",
       "      <td>4.000000</td>\n",
       "      <td>4.000000</td>\n",
       "      <td>5.000000</td>\n",
       "      <td>4.000000</td>\n",
       "      <td>4.000000</td>\n",
       "      <td>4.000000</td>\n",
       "      <td>1981.000000</td>\n",
       "      <td>0.000000</td>\n",
       "      <td>...</td>\n",
       "      <td>0.000000</td>\n",
       "      <td>1.000000</td>\n",
       "      <td>0.000000</td>\n",
       "      <td>0.000000</td>\n",
       "      <td>0.000000</td>\n",
       "      <td>0.000000</td>\n",
       "      <td>0.000000</td>\n",
       "      <td>0.00000</td>\n",
       "      <td>1.000000</td>\n",
       "      <td>0.000000</td>\n",
       "    </tr>\n",
       "    <tr>\n",
       "      <th>max</th>\n",
       "      <td>4.000000</td>\n",
       "      <td>2.000000</td>\n",
       "      <td>5.000000</td>\n",
       "      <td>5.000000</td>\n",
       "      <td>5.000000</td>\n",
       "      <td>5.000000</td>\n",
       "      <td>5.000000</td>\n",
       "      <td>5.000000</td>\n",
       "      <td>2017.000000</td>\n",
       "      <td>1.000000</td>\n",
       "      <td>...</td>\n",
       "      <td>1.000000</td>\n",
       "      <td>1.000000</td>\n",
       "      <td>1.000000</td>\n",
       "      <td>1.000000</td>\n",
       "      <td>1.000000</td>\n",
       "      <td>1.000000</td>\n",
       "      <td>1.000000</td>\n",
       "      <td>1.00000</td>\n",
       "      <td>1.000000</td>\n",
       "      <td>1.000000</td>\n",
       "    </tr>\n",
       "  </tbody>\n",
       "</table>\n",
       "<p>8 rows × 81 columns</p>\n",
       "</div>"
      ],
      "text/plain": [
       "       ALTERSKATEGORIE_GROB      ANREDE_KZ  FINANZ_MINIMALIST  FINANZ_SPARER  \\\n",
       "count         787461.000000  790179.000000      790179.000000  790179.000000   \n",
       "mean               2.796039       1.521400           3.056304       2.713938   \n",
       "std                1.018653       0.499542           1.377550       1.485466   \n",
       "min                1.000000       1.000000           1.000000       1.000000   \n",
       "25%                2.000000       1.000000           2.000000       1.000000   \n",
       "50%                3.000000       2.000000           3.000000       3.000000   \n",
       "75%                4.000000       2.000000           4.000000       4.000000   \n",
       "max                4.000000       2.000000           5.000000       5.000000   \n",
       "\n",
       "       FINANZ_VORSORGER  FINANZ_ANLEGER  FINANZ_UNAUFFAELLIGER  \\\n",
       "count     790179.000000   790179.000000          790179.000000   \n",
       "mean           3.435057        2.839376               2.646976   \n",
       "std            1.377146        1.472382               1.396868   \n",
       "min            1.000000        1.000000               1.000000   \n",
       "25%            2.000000        1.000000               1.000000   \n",
       "50%            4.000000        3.000000               2.000000   \n",
       "75%            5.000000        4.000000               4.000000   \n",
       "max            5.000000        5.000000               5.000000   \n",
       "\n",
       "       FINANZ_HAUSBAUER    GEBURTSJAHR  GREEN_AVANTGARDE  \\\n",
       "count     790179.000000  483560.000000     790179.000000   \n",
       "mean           3.126832    1967.058508          0.220124   \n",
       "std            1.404373      17.795855          0.414330   \n",
       "min            1.000000    1900.000000          0.000000   \n",
       "25%            2.000000    1955.000000          0.000000   \n",
       "50%            3.000000    1967.000000          0.000000   \n",
       "75%            4.000000    1981.000000          0.000000   \n",
       "max            5.000000    2017.000000          1.000000   \n",
       "\n",
       "                                ...                            \\\n",
       "count                           ...                             \n",
       "mean                            ...                             \n",
       "std                             ...                             \n",
       "min                             ...                             \n",
       "25%                             ...                             \n",
       "50%                             ...                             \n",
       "75%                             ...                             \n",
       "max                             ...                             \n",
       "\n",
       "       CAMEO_INTL_2015_wealth_Less Affluent Households  \\\n",
       "count                                    790179.000000   \n",
       "mean                                          0.239176   \n",
       "std                                           0.426581   \n",
       "min                                           0.000000   \n",
       "25%                                           0.000000   \n",
       "50%                                           0.000000   \n",
       "75%                                           0.000000   \n",
       "max                                           1.000000   \n",
       "\n",
       "       CAMEO_INTL_2015_wealth_Poorer Households  \\\n",
       "count                             790179.000000   \n",
       "mean                                   0.282030   \n",
       "std                                    0.449988   \n",
       "min                                    0.000000   \n",
       "25%                                    0.000000   \n",
       "50%                                    0.000000   \n",
       "75%                                    1.000000   \n",
       "max                                    1.000000   \n",
       "\n",
       "       CAMEO_INTL_2015_wealth_Prosperous Households  \\\n",
       "count                                 790179.000000   \n",
       "mean                                       0.238280   \n",
       "std                                        0.426032   \n",
       "min                                        0.000000   \n",
       "25%                                        0.000000   \n",
       "50%                                        0.000000   \n",
       "75%                                        0.000000   \n",
       "max                                        1.000000   \n",
       "\n",
       "       CAMEO_INTL_2015_wealth_Wealthy Households  \\\n",
       "count                              790179.000000   \n",
       "mean                                    0.149943   \n",
       "std                                     0.357016   \n",
       "min                                     0.000000   \n",
       "25%                                     0.000000   \n",
       "50%                                     0.000000   \n",
       "75%                                     0.000000   \n",
       "max                                     1.000000   \n",
       "\n",
       "       CAMEO_INTL_2015_life_stage_Elders In Retirement  \\\n",
       "count                                    790179.000000   \n",
       "mean                                          0.147165   \n",
       "std                                           0.354271   \n",
       "min                                           0.000000   \n",
       "25%                                           0.000000   \n",
       "50%                                           0.000000   \n",
       "75%                                           0.000000   \n",
       "max                                           1.000000   \n",
       "\n",
       "       CAMEO_INTL_2015_life_stage_Families With School Age Children  \\\n",
       "count                                      790179.000000              \n",
       "mean                                            0.149308              \n",
       "std                                             0.356392              \n",
       "min                                             0.000000              \n",
       "25%                                             0.000000              \n",
       "50%                                             0.000000              \n",
       "75%                                             0.000000              \n",
       "max                                             1.000000              \n",
       "\n",
       "       CAMEO_INTL_2015_life_stage_Older Families &  Mature Couples  \\\n",
       "count                                      790179.000000             \n",
       "mean                                            0.078962             \n",
       "std                                             0.269679             \n",
       "min                                             0.000000             \n",
       "25%                                             0.000000             \n",
       "50%                                             0.000000             \n",
       "75%                                             0.000000             \n",
       "max                                             1.000000             \n",
       "\n",
       "       CAMEO_INTL_2015_life_stage_Older Families & Mature Couples  \\\n",
       "count                                       790179.00000            \n",
       "mean                                             0.21366            \n",
       "std                                              0.40989            \n",
       "min                                              0.00000            \n",
       "25%                                              0.00000            \n",
       "50%                                              0.00000            \n",
       "75%                                              0.00000            \n",
       "max                                              1.00000            \n",
       "\n",
       "       CAMEO_INTL_2015_life_stage_Pre-Family Couples & Singles  \\\n",
       "count                                      790179.000000         \n",
       "mean                                            0.308402         \n",
       "std                                             0.461834         \n",
       "min                                             0.000000         \n",
       "25%                                             0.000000         \n",
       "50%                                             0.000000         \n",
       "75%                                             1.000000         \n",
       "max                                             1.000000         \n",
       "\n",
       "       CAMEO_INTL_2015_life_stage_Young Couples With Children  \n",
       "count                                      790179.000000       \n",
       "mean                                            0.097065       \n",
       "std                                             0.296047       \n",
       "min                                             0.000000       \n",
       "25%                                             0.000000       \n",
       "50%                                             0.000000       \n",
       "75%                                             0.000000       \n",
       "max                                             1.000000       \n",
       "\n",
       "[8 rows x 81 columns]"
      ]
     },
     "execution_count": 45,
     "metadata": {},
     "output_type": "execute_result"
    }
   ],
   "source": [
    "azdias_dense.describe()"
   ]
  },
  {
   "cell_type": "code",
   "execution_count": 46,
   "metadata": {},
   "outputs": [],
   "source": [
    "from sklearn.preprocessing import Imputer\n",
    "imputer = Imputer(missing_values=float(\"NaN\"), strategy=\"mean\", axis=1, copy = False)\n",
    "azdias_dense[azdias_dense.columns] = imputer.fit_transform(azdias_dense)"
   ]
  },
  {
   "cell_type": "code",
   "execution_count": 47,
   "metadata": {},
   "outputs": [
    {
     "data": {
      "image/png": "[encoded data removed]",
      "text/plain": [
       "<matplotlib.figure.Figure at 0x7f15240fbeb8>"
      ]
     },
     "metadata": {
      "needs_background": "light"
     },
     "output_type": "display_data"
    }
   ],
   "source": [
    "azdias_dense.isnull().sum().reset_index().plot();"
   ]
  },
  {
   "cell_type": "code",
   "execution_count": 48,
   "metadata": {},
   "outputs": [],
   "source": [
    "# Apply feature scaling to the general population demographics data.\n",
    "from sklearn.preprocessing import StandardScaler\n",
    "scaler = StandardScaler()\n",
    "azdias_dense[azdias_dense.columns] = scaler.fit_transform(azdias_dense)"
   ]
  },
  {
   "cell_type": "code",
   "execution_count": 49,
   "metadata": {},
   "outputs": [
    {
     "data": {
      "text/html": [
       "<div>\n",
       "<style>\n",
       "    .dataframe thead tr:only-child th {\n",
       "        text-align: right;\n",
       "    }\n",
       "\n",
       "    .dataframe thead th {\n",
       "        text-align: left;\n",
       "    }\n",
       "\n",
       "    .dataframe tbody tr th {\n",
       "        vertical-align: top;\n",
       "    }\n",
       "</style>\n",
       "<table border=\"1\" class=\"dataframe\">\n",
       "  <thead>\n",
       "    <tr style=\"text-align: right;\">\n",
       "      <th></th>\n",
       "      <th>ALTERSKATEGORIE_GROB</th>\n",
       "      <th>ANREDE_KZ</th>\n",
       "      <th>FINANZ_MINIMALIST</th>\n",
       "      <th>FINANZ_SPARER</th>\n",
       "      <th>FINANZ_VORSORGER</th>\n",
       "      <th>FINANZ_ANLEGER</th>\n",
       "      <th>FINANZ_UNAUFFAELLIGER</th>\n",
       "      <th>FINANZ_HAUSBAUER</th>\n",
       "      <th>GEBURTSJAHR</th>\n",
       "      <th>GREEN_AVANTGARDE</th>\n",
       "      <th>...</th>\n",
       "      <th>CAMEO_INTL_2015_wealth_Less Affluent Households</th>\n",
       "      <th>CAMEO_INTL_2015_wealth_Poorer Households</th>\n",
       "      <th>CAMEO_INTL_2015_wealth_Prosperous Households</th>\n",
       "      <th>CAMEO_INTL_2015_wealth_Wealthy Households</th>\n",
       "      <th>CAMEO_INTL_2015_life_stage_Elders In Retirement</th>\n",
       "      <th>CAMEO_INTL_2015_life_stage_Families With School Age Children</th>\n",
       "      <th>CAMEO_INTL_2015_life_stage_Older Families &amp;  Mature Couples</th>\n",
       "      <th>CAMEO_INTL_2015_life_stage_Older Families &amp; Mature Couples</th>\n",
       "      <th>CAMEO_INTL_2015_life_stage_Pre-Family Couples &amp; Singles</th>\n",
       "      <th>CAMEO_INTL_2015_life_stage_Young Couples With Children</th>\n",
       "    </tr>\n",
       "  </thead>\n",
       "  <tbody>\n",
       "    <tr>\n",
       "      <th>count</th>\n",
       "      <td>7.901790e+05</td>\n",
       "      <td>7.901790e+05</td>\n",
       "      <td>7.901790e+05</td>\n",
       "      <td>7.901790e+05</td>\n",
       "      <td>7.901790e+05</td>\n",
       "      <td>7.901790e+05</td>\n",
       "      <td>7.901790e+05</td>\n",
       "      <td>7.901790e+05</td>\n",
       "      <td>7.901790e+05</td>\n",
       "      <td>7.901790e+05</td>\n",
       "      <td>...</td>\n",
       "      <td>7.901790e+05</td>\n",
       "      <td>7.901790e+05</td>\n",
       "      <td>7.901790e+05</td>\n",
       "      <td>7.901790e+05</td>\n",
       "      <td>7.901790e+05</td>\n",
       "      <td>7.901790e+05</td>\n",
       "      <td>7.901790e+05</td>\n",
       "      <td>7.901790e+05</td>\n",
       "      <td>7.901790e+05</td>\n",
       "      <td>7.901790e+05</td>\n",
       "    </tr>\n",
       "    <tr>\n",
       "      <th>mean</th>\n",
       "      <td>1.245956e-16</td>\n",
       "      <td>9.306900e-17</td>\n",
       "      <td>-1.064314e-16</td>\n",
       "      <td>-1.066652e-16</td>\n",
       "      <td>7.247693e-18</td>\n",
       "      <td>-3.846852e-17</td>\n",
       "      <td>-8.118135e-17</td>\n",
       "      <td>4.044680e-17</td>\n",
       "      <td>-1.090391e-16</td>\n",
       "      <td>7.124500e-17</td>\n",
       "      <td>...</td>\n",
       "      <td>-3.038456e-17</td>\n",
       "      <td>2.201284e-17</td>\n",
       "      <td>-1.792140e-17</td>\n",
       "      <td>-7.821393e-17</td>\n",
       "      <td>-5.075183e-17</td>\n",
       "      <td>-4.792829e-18</td>\n",
       "      <td>-7.367738e-17</td>\n",
       "      <td>3.514142e-17</td>\n",
       "      <td>9.924663e-17</td>\n",
       "      <td>-5.407894e-17</td>\n",
       "    </tr>\n",
       "    <tr>\n",
       "      <th>std</th>\n",
       "      <td>1.000001e+00</td>\n",
       "      <td>1.000001e+00</td>\n",
       "      <td>1.000001e+00</td>\n",
       "      <td>1.000001e+00</td>\n",
       "      <td>1.000001e+00</td>\n",
       "      <td>1.000001e+00</td>\n",
       "      <td>1.000001e+00</td>\n",
       "      <td>1.000001e+00</td>\n",
       "      <td>1.000001e+00</td>\n",
       "      <td>1.000001e+00</td>\n",
       "      <td>...</td>\n",
       "      <td>1.000001e+00</td>\n",
       "      <td>1.000001e+00</td>\n",
       "      <td>1.000001e+00</td>\n",
       "      <td>1.000001e+00</td>\n",
       "      <td>1.000001e+00</td>\n",
       "      <td>1.000001e+00</td>\n",
       "      <td>1.000001e+00</td>\n",
       "      <td>1.000001e+00</td>\n",
       "      <td>1.000001e+00</td>\n",
       "      <td>1.000001e+00</td>\n",
       "    </tr>\n",
       "    <tr>\n",
       "      <th>min</th>\n",
       "      <td>-6.460192e-01</td>\n",
       "      <td>-1.043756e+00</td>\n",
       "      <td>-1.492726e+00</td>\n",
       "      <td>-1.153806e+00</td>\n",
       "      <td>-1.768192e+00</td>\n",
       "      <td>-1.249253e+00</td>\n",
       "      <td>-1.179050e+00</td>\n",
       "      <td>-1.514436e+00</td>\n",
       "      <td>-1.264387e+00</td>\n",
       "      <td>-5.312762e-01</td>\n",
       "      <td>...</td>\n",
       "      <td>-5.606824e-01</td>\n",
       "      <td>-6.267499e-01</td>\n",
       "      <td>-5.593020e-01</td>\n",
       "      <td>-4.199905e-01</td>\n",
       "      <td>-4.154038e-01</td>\n",
       "      <td>-4.189433e-01</td>\n",
       "      <td>-2.927992e-01</td>\n",
       "      <td>-5.212631e-01</td>\n",
       "      <td>-6.677778e-01</td>\n",
       "      <td>-3.278717e-01</td>\n",
       "    </tr>\n",
       "    <tr>\n",
       "      <th>25%</th>\n",
       "      <td>-3.160231e-01</td>\n",
       "      <td>-1.043756e+00</td>\n",
       "      <td>-7.667992e-01</td>\n",
       "      <td>-1.153806e+00</td>\n",
       "      <td>-1.042052e+00</td>\n",
       "      <td>-1.249253e+00</td>\n",
       "      <td>-1.179050e+00</td>\n",
       "      <td>-8.023743e-01</td>\n",
       "      <td>-1.255080e+00</td>\n",
       "      <td>-5.312762e-01</td>\n",
       "      <td>...</td>\n",
       "      <td>-5.606824e-01</td>\n",
       "      <td>-6.267499e-01</td>\n",
       "      <td>-5.593020e-01</td>\n",
       "      <td>-4.199905e-01</td>\n",
       "      <td>-4.154038e-01</td>\n",
       "      <td>-4.189433e-01</td>\n",
       "      <td>-2.927992e-01</td>\n",
       "      <td>-5.212631e-01</td>\n",
       "      <td>-6.677778e-01</td>\n",
       "      <td>-3.278717e-01</td>\n",
       "    </tr>\n",
       "    <tr>\n",
       "      <th>50%</th>\n",
       "      <td>1.397302e-02</td>\n",
       "      <td>9.580787e-01</td>\n",
       "      <td>-4.087236e-02</td>\n",
       "      <td>1.925738e-01</td>\n",
       "      <td>4.102274e-01</td>\n",
       "      <td>1.090916e-01</td>\n",
       "      <td>-4.631623e-01</td>\n",
       "      <td>-9.031227e-02</td>\n",
       "      <td>7.780857e-01</td>\n",
       "      <td>-5.312762e-01</td>\n",
       "      <td>...</td>\n",
       "      <td>-5.606824e-01</td>\n",
       "      <td>-6.267499e-01</td>\n",
       "      <td>-5.593020e-01</td>\n",
       "      <td>-4.199905e-01</td>\n",
       "      <td>-4.154038e-01</td>\n",
       "      <td>-4.189433e-01</td>\n",
       "      <td>-2.927992e-01</td>\n",
       "      <td>-5.212631e-01</td>\n",
       "      <td>-6.677778e-01</td>\n",
       "      <td>-3.278717e-01</td>\n",
       "    </tr>\n",
       "    <tr>\n",
       "      <th>75%</th>\n",
       "      <td>3.439691e-01</td>\n",
       "      <td>9.580787e-01</td>\n",
       "      <td>6.850544e-01</td>\n",
       "      <td>8.657636e-01</td>\n",
       "      <td>1.136367e+00</td>\n",
       "      <td>7.882637e-01</td>\n",
       "      <td>9.686130e-01</td>\n",
       "      <td>6.217498e-01</td>\n",
       "      <td>8.014542e-01</td>\n",
       "      <td>-5.312762e-01</td>\n",
       "      <td>...</td>\n",
       "      <td>-5.606824e-01</td>\n",
       "      <td>1.595533e+00</td>\n",
       "      <td>-5.593020e-01</td>\n",
       "      <td>-4.199905e-01</td>\n",
       "      <td>-4.154038e-01</td>\n",
       "      <td>-4.189433e-01</td>\n",
       "      <td>-2.927992e-01</td>\n",
       "      <td>-5.212631e-01</td>\n",
       "      <td>1.497504e+00</td>\n",
       "      <td>-3.278717e-01</td>\n",
       "    </tr>\n",
       "    <tr>\n",
       "      <th>max</th>\n",
       "      <td>2.594224e+01</td>\n",
       "      <td>9.580787e-01</td>\n",
       "      <td>1.410981e+00</td>\n",
       "      <td>1.538953e+00</td>\n",
       "      <td>1.136367e+00</td>\n",
       "      <td>1.467436e+00</td>\n",
       "      <td>1.684501e+00</td>\n",
       "      <td>1.333812e+00</td>\n",
       "      <td>8.492534e-01</td>\n",
       "      <td>1.882260e+00</td>\n",
       "      <td>...</td>\n",
       "      <td>1.783541e+00</td>\n",
       "      <td>1.595533e+00</td>\n",
       "      <td>1.787943e+00</td>\n",
       "      <td>2.381006e+00</td>\n",
       "      <td>2.407296e+00</td>\n",
       "      <td>2.386958e+00</td>\n",
       "      <td>3.415310e+00</td>\n",
       "      <td>1.918417e+00</td>\n",
       "      <td>1.497504e+00</td>\n",
       "      <td>3.049973e+00</td>\n",
       "    </tr>\n",
       "  </tbody>\n",
       "</table>\n",
       "<p>8 rows × 81 columns</p>\n",
       "</div>"
      ],
      "text/plain": [
       "       ALTERSKATEGORIE_GROB     ANREDE_KZ  FINANZ_MINIMALIST  FINANZ_SPARER  \\\n",
       "count          7.901790e+05  7.901790e+05       7.901790e+05   7.901790e+05   \n",
       "mean           1.245956e-16  9.306900e-17      -1.064314e-16  -1.066652e-16   \n",
       "std            1.000001e+00  1.000001e+00       1.000001e+00   1.000001e+00   \n",
       "min           -6.460192e-01 -1.043756e+00      -1.492726e+00  -1.153806e+00   \n",
       "25%           -3.160231e-01 -1.043756e+00      -7.667992e-01  -1.153806e+00   \n",
       "50%            1.397302e-02  9.580787e-01      -4.087236e-02   1.925738e-01   \n",
       "75%            3.439691e-01  9.580787e-01       6.850544e-01   8.657636e-01   \n",
       "max            2.594224e+01  9.580787e-01       1.410981e+00   1.538953e+00   \n",
       "\n",
       "       FINANZ_VORSORGER  FINANZ_ANLEGER  FINANZ_UNAUFFAELLIGER  \\\n",
       "count      7.901790e+05    7.901790e+05           7.901790e+05   \n",
       "mean       7.247693e-18   -3.846852e-17          -8.118135e-17   \n",
       "std        1.000001e+00    1.000001e+00           1.000001e+00   \n",
       "min       -1.768192e+00   -1.249253e+00          -1.179050e+00   \n",
       "25%       -1.042052e+00   -1.249253e+00          -1.179050e+00   \n",
       "50%        4.102274e-01    1.090916e-01          -4.631623e-01   \n",
       "75%        1.136367e+00    7.882637e-01           9.686130e-01   \n",
       "max        1.136367e+00    1.467436e+00           1.684501e+00   \n",
       "\n",
       "       FINANZ_HAUSBAUER   GEBURTSJAHR  GREEN_AVANTGARDE  \\\n",
       "count      7.901790e+05  7.901790e+05      7.901790e+05   \n",
       "mean       4.044680e-17 -1.090391e-16      7.124500e-17   \n",
       "std        1.000001e+00  1.000001e+00      1.000001e+00   \n",
       "min       -1.514436e+00 -1.264387e+00     -5.312762e-01   \n",
       "25%       -8.023743e-01 -1.255080e+00     -5.312762e-01   \n",
       "50%       -9.031227e-02  7.780857e-01     -5.312762e-01   \n",
       "75%        6.217498e-01  8.014542e-01     -5.312762e-01   \n",
       "max        1.333812e+00  8.492534e-01      1.882260e+00   \n",
       "\n",
       "                                ...                            \\\n",
       "count                           ...                             \n",
       "mean                            ...                             \n",
       "std                             ...                             \n",
       "min                             ...                             \n",
       "25%                             ...                             \n",
       "50%                             ...                             \n",
       "75%                             ...                             \n",
       "max                             ...                             \n",
       "\n",
       "       CAMEO_INTL_2015_wealth_Less Affluent Households  \\\n",
       "count                                     7.901790e+05   \n",
       "mean                                     -3.038456e-17   \n",
       "std                                       1.000001e+00   \n",
       "min                                      -5.606824e-01   \n",
       "25%                                      -5.606824e-01   \n",
       "50%                                      -5.606824e-01   \n",
       "75%                                      -5.606824e-01   \n",
       "max                                       1.783541e+00   \n",
       "\n",
       "       CAMEO_INTL_2015_wealth_Poorer Households  \\\n",
       "count                              7.901790e+05   \n",
       "mean                               2.201284e-17   \n",
       "std                                1.000001e+00   \n",
       "min                               -6.267499e-01   \n",
       "25%                               -6.267499e-01   \n",
       "50%                               -6.267499e-01   \n",
       "75%                                1.595533e+00   \n",
       "max                                1.595533e+00   \n",
       "\n",
       "       CAMEO_INTL_2015_wealth_Prosperous Households  \\\n",
       "count                                  7.901790e+05   \n",
       "mean                                  -1.792140e-17   \n",
       "std                                    1.000001e+00   \n",
       "min                                   -5.593020e-01   \n",
       "25%                                   -5.593020e-01   \n",
       "50%                                   -5.593020e-01   \n",
       "75%                                   -5.593020e-01   \n",
       "max                                    1.787943e+00   \n",
       "\n",
       "       CAMEO_INTL_2015_wealth_Wealthy Households  \\\n",
       "count                               7.901790e+05   \n",
       "mean                               -7.821393e-17   \n",
       "std                                 1.000001e+00   \n",
       "min                                -4.199905e-01   \n",
       "25%                                -4.199905e-01   \n",
       "50%                                -4.199905e-01   \n",
       "75%                                -4.199905e-01   \n",
       "max                                 2.381006e+00   \n",
       "\n",
       "       CAMEO_INTL_2015_life_stage_Elders In Retirement  \\\n",
       "count                                     7.901790e+05   \n",
       "mean                                     -5.075183e-17   \n",
       "std                                       1.000001e+00   \n",
       "min                                      -4.154038e-01   \n",
       "25%                                      -4.154038e-01   \n",
       "50%                                      -4.154038e-01   \n",
       "75%                                      -4.154038e-01   \n",
       "max                                       2.407296e+00   \n",
       "\n",
       "       CAMEO_INTL_2015_life_stage_Families With School Age Children  \\\n",
       "count                                       7.901790e+05              \n",
       "mean                                       -4.792829e-18              \n",
       "std                                         1.000001e+00              \n",
       "min                                        -4.189433e-01              \n",
       "25%                                        -4.189433e-01              \n",
       "50%                                        -4.189433e-01              \n",
       "75%                                        -4.189433e-01              \n",
       "max                                         2.386958e+00              \n",
       "\n",
       "       CAMEO_INTL_2015_life_stage_Older Families &  Mature Couples  \\\n",
       "count                                       7.901790e+05             \n",
       "mean                                       -7.367738e-17             \n",
       "std                                         1.000001e+00             \n",
       "min                                        -2.927992e-01             \n",
       "25%                                        -2.927992e-01             \n",
       "50%                                        -2.927992e-01             \n",
       "75%                                        -2.927992e-01             \n",
       "max                                         3.415310e+00             \n",
       "\n",
       "       CAMEO_INTL_2015_life_stage_Older Families & Mature Couples  \\\n",
       "count                                       7.901790e+05            \n",
       "mean                                        3.514142e-17            \n",
       "std                                         1.000001e+00            \n",
       "min                                        -5.212631e-01            \n",
       "25%                                        -5.212631e-01            \n",
       "50%                                        -5.212631e-01            \n",
       "75%                                        -5.212631e-01            \n",
       "max                                         1.918417e+00            \n",
       "\n",
       "       CAMEO_INTL_2015_life_stage_Pre-Family Couples & Singles  \\\n",
       "count                                       7.901790e+05         \n",
       "mean                                        9.924663e-17         \n",
       "std                                         1.000001e+00         \n",
       "min                                        -6.677778e-01         \n",
       "25%                                        -6.677778e-01         \n",
       "50%                                        -6.677778e-01         \n",
       "75%                                         1.497504e+00         \n",
       "max                                         1.497504e+00         \n",
       "\n",
       "       CAMEO_INTL_2015_life_stage_Young Couples With Children  \n",
       "count                                       7.901790e+05       \n",
       "mean                                       -5.407894e-17       \n",
       "std                                         1.000001e+00       \n",
       "min                                        -3.278717e-01       \n",
       "25%                                        -3.278717e-01       \n",
       "50%                                        -3.278717e-01       \n",
       "75%                                        -3.278717e-01       \n",
       "max                                         3.049973e+00       \n",
       "\n",
       "[8 rows x 81 columns]"
      ]
     },
     "execution_count": 49,
     "metadata": {},
     "output_type": "execute_result"
    }
   ],
   "source": [
    "azdias_dense.describe()"
   ]
  },
  {
   "cell_type": "markdown",
   "metadata": {},
   "source": [
    "### Discussion 2.1: Apply Feature Scaling\n",
    "\n",
    "\n",
    "Using imputer to fill NaNs with mean of respective columns.\n",
    "Before replacing NaNs the graph fluctuates, indicates lot of nulls.\n",
    "After replacing we have a line at zero, indicating no nulls.\n",
    "\n",
    "Feature Scaling is performed with the help of StandardScaler, to scale numbers to have 0 as mean and 1 as standard deviation. "
   ]
  },
  {
   "cell_type": "markdown",
   "metadata": {},
   "source": [
    "### Step 2.2: Perform Dimensionality Reduction\n",
    "\n",
    "On your scaled data, you are now ready to apply dimensionality reduction techniques.\n",
    "\n",
    "- Use sklearn's [PCA](http://scikit-learn.org/stable/modules/generated/sklearn.decomposition.PCA.html) class to apply principal component analysis on the data, thus finding the vectors of maximal variance in the data. To start, you should not set any parameters (so all components are computed) or set a number of components that is at least half the number of features (so there's enough features to see the general trend in variability).\n",
    "- Check out the ratio of variance explained by each principal component as well as the cumulative variance explained. Try plotting the cumulative or sequential values using matplotlib's [`plot()`](https://matplotlib.org/api/_as_gen/matplotlib.pyplot.plot.html) function. Based on what you find, select a value for the number of transformed features you'll retain for the clustering part of the project.\n",
    "- Once you've made a choice for the number of components to keep, make sure you re-fit a PCA instance to perform the decided-on transformation."
   ]
  },
  {
   "cell_type": "code",
   "execution_count": 50,
   "metadata": {},
   "outputs": [],
   "source": [
    "# Apply PCA to the data.\n",
    "from sklearn.decomposition import PCA\n",
    "pca = PCA()\n",
    "pca_df = pca.fit_transform(azdias_dense)"
   ]
  },
  {
   "cell_type": "code",
   "execution_count": 51,
   "metadata": {},
   "outputs": [],
   "source": [
    "# Investigate the variance accounted for by each principal component.\n",
    "def scree_plot(pca):\n",
    "    num_components = len(pca.explained_variance_ratio_)\n",
    "    ind = np.arange(num_components)\n",
    "    vals = pca.explained_variance_ratio_\n",
    " \n",
    "    plt.figure(figsize=(20, 10))\n",
    "    ax = plt.subplot(111)\n",
    "    cumvals = np.cumsum(vals)\n",
    "    print('max variance:',np.max(cumvals))\n",
    "    ax.bar(ind, vals)\n",
    "    ax.plot(ind, cumvals)\n",
    "    ax.xaxis.set_tick_params(width=0)\n",
    "    ax.yaxis.set_tick_params(width=2, length=12)\n",
    " \n",
    "    ax.set_xlabel(\"Principal Component\")\n",
    "    ax.set_ylabel(\"Variance Explained\")\n",
    "    plt.title('Explained Variance Per Principal Component')"
   ]
  },
  {
   "cell_type": "code",
   "execution_count": 52,
   "metadata": {},
   "outputs": [
    {
     "name": "stdout",
     "output_type": "stream",
     "text": [
      "max variance: 1.0\n"
     ]
    },
    {
     "data": {
      "image/png": "[encoded data removed]",
      "text/plain": [
       "<matplotlib.figure.Figure at 0x7f14e6806c50>"
      ]
     },
     "metadata": {
      "needs_background": "light"
     },
     "output_type": "display_data"
    }
   ],
   "source": [
    "scree_plot(pca)"
   ]
  },
  {
   "cell_type": "code",
   "execution_count": 53,
   "metadata": {},
   "outputs": [
    {
     "name": "stdout",
     "output_type": "stream",
     "text": [
      "max variance: 0.942643828851\n"
     ]
    },
    {
     "data": {
      "image/png": "[encoded data removed]",
      "text/plain": [
       "<matplotlib.figure.Figure at 0x7f1525e62c18>"
      ]
     },
     "metadata": {
      "needs_background": "light"
     },
     "output_type": "display_data"
    }
   ],
   "source": [
    "# Re-apply PCA to the data while selecting for number of components to retain.\n",
    "pca42 = PCA(42)\n",
    "pca_df_42 = pca42.fit_transform(azdias_dense)\n",
    "scree_plot(pca42)"
   ]
  },
  {
   "cell_type": "code",
   "execution_count": 54,
   "metadata": {},
   "outputs": [
    {
     "name": "stdout",
     "output_type": "stream",
     "text": [
      "max variance: 0.997902529263\n"
     ]
    },
    {
     "data": {
      "image/png": "[encoded data removed]",
      "text/plain": [
       "<matplotlib.figure.Figure at 0x7f14a2044160>"
      ]
     },
     "metadata": {
      "needs_background": "light"
     },
     "output_type": "display_data"
    }
   ],
   "source": [
    "pca63 = PCA(63)\n",
    "pca_df_63 = pca63.fit_transform(azdias_dense)\n",
    "scree_plot(pca63)"
   ]
  },
  {
   "cell_type": "markdown",
   "metadata": {},
   "source": [
    "### Discussion 2.2: Perform Dimensionality Reduction\n",
    "\n",
    "After few trails,63 principal components feel like a good number, as it retians 99.8% variance.\n"
   ]
  },
  {
   "cell_type": "markdown",
   "metadata": {},
   "source": [
    "### Step 2.3: Interpret Principal Components\n",
    "\n",
    "Now that we have our transformed principal components, it's a nice idea to check out the weight of each variable on the first few components to see if they can be interpreted in some fashion.\n",
    "\n",
    "As a reminder, each principal component is a unit vector that points in the direction of highest variance (after accounting for the variance captured by earlier principal components). The further a weight is from zero, the more the principal component is in the direction of the corresponding feature. If two features have large weights of the same sign (both positive or both negative), then increases in one tend expect to be associated with increases in the other. To contrast, features with different signs can be expected to show a negative correlation: increases in one variable should result in a decrease in the other.\n",
    "\n",
    "- To investigate the features, you should map each weight to their corresponding feature name, then sort the features according to weight. The most interesting features for each principal component, then, will be those at the beginning and end of the sorted list. Use the data dictionary document to help you understand these most prominent features, their relationships, and what a positive or negative value on the principal component might indicate.\n",
    "- You should investigate and interpret feature associations from the first three principal components in this substep. To help facilitate this, you should write a function that you can call at any time to print the sorted list of feature weights, for the *i*-th principal component. This might come in handy in the next step of the project, when you interpret the tendencies of the discovered clusters."
   ]
  },
  {
   "cell_type": "code",
   "execution_count": 55,
   "metadata": {},
   "outputs": [],
   "source": [
    "# Map weights for the first principal component to corresponding feature names\n",
    "# and then print the linked values, sorted by weight.\n",
    "# HINT: Try defining a function here or in a new cell that you can reuse in the\n",
    "# other cells.\n",
    "\n",
    "def print_top_bottom_weights(n,pca_object):\n",
    "    components = pd.DataFrame(list(zip(azdias_dense.columns,pca_object.components_[n-1])),columns = ['features','weights'])\n",
    "    components = components.sort_values(by = 'weights', ascending=False)\n",
    "\n",
    "    print(components.head())\n",
    "    print()\n",
    "    print(components.tail())\n",
    "    return components"
   ]
  },
  {
   "cell_type": "code",
   "execution_count": 56,
   "metadata": {},
   "outputs": [
    {
     "name": "stdout",
     "output_type": "stream",
     "text": [
      "       features   weights\n",
      "47   MOBI_REGIO  0.285646\n",
      "41    KBA05_GBZ  0.285131\n",
      "37  KBA05_ANTG1  0.284677\n",
      "38  KBA05_ANTG2  0.280025\n",
      "40  KBA05_ANTG4  0.279032\n",
      "\n",
      "                                             features   weights\n",
      "79  CAMEO_INTL_2015_life_stage_Pre-Family Couples ... -0.052630\n",
      "17                                         SEMIO_LUST -0.053422\n",
      "72           CAMEO_INTL_2015_wealth_Poorer Households -0.069268\n",
      "30                                 HH_EINKOMMEN_SCORE -0.099943\n",
      "7                                    FINANZ_HAUSBAUER -0.118187\n"
     ]
    }
   ],
   "source": [
    "c1 = print_top_bottom_weights(1,pca63)"
   ]
  },
  {
   "cell_type": "code",
   "execution_count": 57,
   "metadata": {},
   "outputs": [
    {
     "name": "stdout",
     "output_type": "stream",
     "text": [
      "                                features   weights\n",
      "4                       FINANZ_VORSORGER  0.266206\n",
      "18                             SEMIO_ERL  0.235574\n",
      "2                      FINANZ_MINIMALIST  0.211255\n",
      "17                            SEMIO_LUST  0.186111\n",
      "64  PRAEGENDE_JUGENDJAHRE_generation_60s  0.136806\n",
      "\n",
      "                                features   weights\n",
      "67  PRAEGENDE_JUGENDJAHRE_generation_90s -0.232152\n",
      "25                           SEMIO_TRADV -0.241451\n",
      "24                         SEMIO_PFLICHT -0.259887\n",
      "14                             SEMIO_REL -0.282487\n",
      "3                          FINANZ_SPARER -0.291756\n"
     ]
    }
   ],
   "source": [
    "# Map weights for the second principal component to corresponding feature names\n",
    "# and then print the linked values, sorted by weight.\n",
    "\n",
    "c2 = print_top_bottom_weights(2,pca63)"
   ]
  },
  {
   "cell_type": "code",
   "execution_count": 58,
   "metadata": {},
   "outputs": [
    {
     "name": "stdout",
     "output_type": "stream",
     "text": [
      "             features   weights\n",
      "16         SEMIO_VERT  0.324590\n",
      "12          SEMIO_SOZ  0.233896\n",
      "19         SEMIO_KULT  0.233360\n",
      "13          SEMIO_FAM  0.226168\n",
      "2   FINANZ_MINIMALIST  0.218862\n",
      "\n",
      "      features   weights\n",
      "18   SEMIO_ERL -0.186250\n",
      "21  SEMIO_KRIT -0.272177\n",
      "22   SEMIO_DOM -0.283234\n",
      "23  SEMIO_KAEM -0.328674\n",
      "1    ANREDE_KZ -0.334582\n"
     ]
    }
   ],
   "source": [
    "# Map weights for the third principal component to corresponding feature names\n",
    "# and then print the linked values, sorted by weight.\n",
    "\n",
    "c2 = print_top_bottom_weights(3,pca63)"
   ]
  },
  {
   "cell_type": "markdown",
   "metadata": {},
   "source": [
    "### Discussion 2.3: Interpret Principal Components\n",
    "\n",
    "Just considering best and worst from each component analysis,\n",
    "\n",
    "1st component:   \n",
    "- high - MOBI_REGIO    --Movement patterns\n",
    "- low  - FINANZ_HAUSBAUER   --Financial typology (home ownership)\n",
    "\n",
    "2nd component:   \n",
    "- high - FINANZ_VORSORGER   --Financial typology (be prepared)\n",
    "- low  - FINANZ_SPARER   --Financial typology (money-saver)\n",
    "\n",
    "3rd component:   \n",
    "- high - SEMIO_VERT   --Personality typology (dreamful)\n",
    "- low  - ANREDE_KZ   --Gender\n",
    "\n",
    "\n",
    "Obviously, 1st component makes sense, as people who usually dont own a house, move a lot(High movement Patterns)\n",
    "The other two components infer there is a negative corelation between hig and low features. Which are not so obivious to reason."
   ]
  },
  {
   "cell_type": "markdown",
   "metadata": {},
   "source": [
    "## Step 3: Clustering\n",
    "\n",
    "### Step 3.1: Apply Clustering to General Population\n",
    "\n",
    "You've assessed and cleaned the demographics data, then scaled and transformed them. Now, it's time to see how the data clusters in the principal components space. In this substep, you will apply k-means clustering to the dataset and use the average within-cluster distances from each point to their assigned cluster's centroid to decide on a number of clusters to keep.\n",
    "\n",
    "- Use sklearn's [KMeans](http://scikit-learn.org/stable/modules/generated/sklearn.cluster.KMeans.html#sklearn.cluster.KMeans) class to perform k-means clustering on the PCA-transformed data.\n",
    "- Then, compute the average difference from each point to its assigned cluster's center. **Hint**: The KMeans object's `.score()` method might be useful here, but note that in sklearn, scores tend to be defined so that larger is better. Try applying it to a small, toy dataset, or use an internet search to help your understanding.\n",
    "- Perform the above two steps for a number of different cluster counts. You can then see how the average distance decreases with an increasing number of clusters. However, each additional cluster provides a smaller net benefit. Use this fact to select a final number of clusters in which to group the data. **Warning**: because of the large size of the dataset, it can take a long time for the algorithm to resolve. The more clusters to fit, the longer the algorithm will take. You should test for cluster counts through at least 10 clusters to get the full picture, but you shouldn't need to test for a number of clusters above about 30.\n",
    "- Once you've selected a final number of clusters to use, re-fit a KMeans instance to perform the clustering operation. Make sure that you also obtain the cluster assignments for the general demographics data, since you'll be using them in the final Step 3.3."
   ]
  },
  {
   "cell_type": "code",
   "execution_count": 59,
   "metadata": {},
   "outputs": [],
   "source": [
    "# Over a number of different cluster counts...\n",
    "from sklearn.cluster import KMeans\n",
    "def scoring(data, k):\n",
    "    # run k-means clustering on the data and...\n",
    "    kmeans = KMeans(k)\n",
    "    model = kmeans.fit(data)\n",
    "    \n",
    "    # compute the average within-cluster distances.\n",
    "    return abs(model.score(data))"
   ]
  },
  {
   "cell_type": "code",
   "execution_count": 63,
   "metadata": {},
   "outputs": [
    {
     "name": "stdout",
     "output_type": "stream",
     "text": [
      "Clusters:1, Score:63870251.436279625\n",
      "Clusters:2, Score:58776935.19682609\n",
      "Clusters:3, Score:53052840.23265755\n",
      "Clusters:4, Score:50501472.912553385\n",
      "Clusters:5, Score:47886014.236428805\n",
      "Clusters:6, Score:45594368.5507446\n",
      "Clusters:7, Score:44202886.69112161\n",
      "Clusters:8, Score:43284339.374843545\n",
      "Clusters:9, Score:41523503.53690901\n",
      "Clusters:10, Score:41725720.931354575\n",
      "Clusters:11, Score:40550388.051359296\n",
      "Clusters:12, Score:39154688.30023365\n",
      "Clusters:13, Score:38689887.18404674\n",
      "Clusters:14, Score:38133553.90685869\n",
      "Clusters:15, Score:37262702.30127241\n",
      "Clusters:16, Score:36773056.576586805\n",
      "Clusters:17, Score:36603089.179724306\n",
      "Clusters:18, Score:35356484.834154874\n",
      "Clusters:19, Score:34886448.37397451\n",
      "Clusters:20, Score:34708049.98667896\n",
      "Clusters:21, Score:34598861.569018744\n",
      "Clusters:22, Score:33356121.872659948\n",
      "Clusters:23, Score:33510340.538257908\n",
      "Clusters:24, Score:32752365.637124125\n",
      "Clusters:25, Score:32588187.84939478\n",
      "Clusters:26, Score:31948193.3612114\n",
      "Clusters:27, Score:31608094.87371693\n",
      "Clusters:28, Score:31641153.523779415\n",
      "Clusters:29, Score:30894594.447411932\n",
      "Clusters:30, Score:31172839.334128343\n"
     ]
    }
   ],
   "source": [
    "scores = []\n",
    "clusters = list(range(1,31))\n",
    "for k in clusters:\n",
    "    score = scoring(pca_df_63,k)\n",
    "    print(f'Clusters:{k}, Score:{score}')\n",
    "    scores.append(score)"
   ]
  },
  {
   "cell_type": "code",
   "execution_count": 65,
   "metadata": {
    "scrolled": true
   },
   "outputs": [
    {
     "data": {
      "image/png": "[encoded data removed]",
      "text/plain": [
       "<matplotlib.figure.Figure at 0x7f1524340128>"
      ]
     },
     "metadata": {
      "needs_background": "light"
     },
     "output_type": "display_data"
    }
   ],
   "source": [
    "# Investigate the change in within-cluster distance across number of clusters.\n",
    "# HINT: Use matplotlib's plot function to visualize this relationship.\n",
    "\n",
    "plt.plot(clusters, scores, linestyle='-', marker='o');"
   ]
  },
  {
   "cell_type": "code",
   "execution_count": 73,
   "metadata": {},
   "outputs": [
    {
     "name": "stdout",
     "output_type": "stream",
     "text": [
      "[ 18.30515665  20.57214791   9.16950299   9.39984453   8.23607475\n",
      "   5.00092518   3.30121903   6.32836728   0.72676051   4.22409516\n",
      "   5.0160841    1.67047496   1.99943756   3.12980273   1.7597654\n",
      "   0.61085542   4.4802417    1.68929056   0.64115603   0.39241842\n",
      "   4.46635232   0.55425517   2.72412877   0.59004782   2.30011231\n",
      "   1.22229915   0.11881135   2.68310079   1.        ]\n"
     ]
    },
    {
     "data": {
      "image/png": "[encoded data removed]",
      "text/plain": [
       "<matplotlib.figure.Figure at 0x7f1422d677b8>"
      ]
     },
     "metadata": {
      "needs_background": "light"
     },
     "output_type": "display_data"
    }
   ],
   "source": [
    "score_change = np.abs((np.array(scores[:-1]) - np.array(scores[1:]))/(scores[-1]-scores[-2]))\n",
    "print(score_change)\n",
    "plt.plot(score_change);"
   ]
  },
  {
   "cell_type": "code",
   "execution_count": 74,
   "metadata": {},
   "outputs": [],
   "source": [
    "# Re-fit the k-means model with the selected number of clusters and obtain\n",
    "# cluster predictions for the general population demographics data.\n",
    "\n",
    "kmeans = KMeans(13)\n",
    "model = kmeans.fit(pca_df_63)\n",
    "azdias_predict = model.predict(pca_df_63)"
   ]
  },
  {
   "cell_type": "markdown",
   "metadata": {},
   "source": [
    "### Discussion 3.1: Apply Clustering to General Population\n",
    "\n",
    "After checking for score from 1 to 30 clusters. Scree plot shows elbow between 10-15.\n",
    "After noticing the change in scores between clusters. I decided to go with 13, as it has the last significant change in score."
   ]
  },
  {
   "cell_type": "markdown",
   "metadata": {},
   "source": [
    "### Step 3.2: Apply All Steps to the Customer Data\n",
    "\n",
    "Now that you have clusters and cluster centers for the general population, it's time to see how the customer data maps on to those clusters. Take care to not confuse this for re-fitting all of the models to the customer data. Instead, you're going to use the fits from the general population to clean, transform, and cluster the customer data. In the last step of the project, you will interpret how the general population fits apply to the customer data.\n",
    "\n",
    "- Don't forget when loading in the customers data, that it is semicolon (`;`) delimited.\n",
    "- Apply the same feature wrangling, selection, and engineering steps to the customer demographics using the `clean_data()` function you created earlier. (You can assume that the customer demographics data has similar meaning behind missing data patterns as the general demographics data.)\n",
    "- Use the sklearn objects from the general demographics data, and apply their transformations to the customers data. That is, you should not be using a `.fit()` or `.fit_transform()` method to re-fit the old objects, nor should you be creating new sklearn objects! Carry the data through the feature scaling, PCA, and clustering steps, obtaining cluster assignments for all of the data in the customer demographics data."
   ]
  },
  {
   "cell_type": "code",
   "execution_count": 224,
   "metadata": {},
   "outputs": [],
   "source": [
    "# Load in the customer demographics data.\n",
    "customers = pd.read_csv('Udacity_CUSTOMERS_Subset.csv',delimiter=';')\n",
    "len_customers = len(customers)"
   ]
  },
  {
   "cell_type": "code",
   "execution_count": 156,
   "metadata": {},
   "outputs": [
    {
     "data": {
      "text/plain": [
       "191652"
      ]
     },
     "execution_count": 156,
     "metadata": {},
     "output_type": "execute_result"
    }
   ],
   "source": [
    "len_customers"
   ]
  },
  {
   "cell_type": "code",
   "execution_count": 238,
   "metadata": {},
   "outputs": [
    {
     "name": "stdout",
     "output_type": "stream",
     "text": [
      "Converting missing values to nans...\n",
      "Removing selected columns and rows, ...\n",
      "Total rows:191652\n",
      "Considered rows:140674\n",
      "Excluding rows(lot of missing values):50978\n",
      "re-encode, and engineer column values...\n",
      "Getting cleaned datafram...\n",
      "Expecting 81 columns, result dataframe has: 81\n"
     ]
    }
   ],
   "source": [
    "# Apply preprocessing, feature transformation, and clustering from the general\n",
    "# demographics onto the customer data, obtaining cluster predictions for the\n",
    "# customer demographics data.\n",
    "customers_clean = clean_data(customers)\n",
    "customers_ = imputer.transform(customers_clean.copy())\n",
    "customers_ = scaler.transform(customers_)\n",
    "customers_ = pca63.transform(customers_)\n",
    "customers_predict = model.predict(customers_)"
   ]
  },
  {
   "cell_type": "markdown",
   "metadata": {},
   "source": [
    "### Step 3.3: Compare Customer Data to Demographics Data\n",
    "\n",
    "At this point, you have clustered data based on demographics of the general population of Germany, and seen how the customer data for a mail-order sales company maps onto those demographic clusters. In this final substep, you will compare the two cluster distributions to see where the strongest customer base for the company is.\n",
    "\n",
    "Consider the proportion of persons in each cluster for the general population, and the proportions for the customers. If we think the company's customer base to be universal, then the cluster assignment proportions should be fairly similar between the two. If there are only particular segments of the population that are interested in the company's products, then we should see a mismatch from one to the other. If there is a higher proportion of persons in a cluster for the customer data compared to the general population (e.g. 5% of persons are assigned to a cluster for the general population, but 15% of the customer data is closest to that cluster's centroid) then that suggests the people in that cluster to be a target audience for the company. On the other hand, the proportion of the data in a cluster being larger in the general population than the customer data (e.g. only 2% of customers closest to a population centroid that captures 6% of the data) suggests that group of persons to be outside of the target demographics.\n",
    "\n",
    "Take a look at the following points in this step:\n",
    "\n",
    "- Compute the proportion of data points in each cluster for the general population and the customer data. Visualizations will be useful here: both for the individual dataset proportions, but also to visualize the ratios in cluster representation between groups. Seaborn's [`countplot()`](https://seaborn.pydata.org/generated/seaborn.countplot.html) or [`barplot()`](https://seaborn.pydata.org/generated/seaborn.barplot.html) function could be handy.\n",
    "  - Recall the analysis you performed in step 1.1.3 of the project, where you separated out certain data points from the dataset if they had more than a specified threshold of missing values. If you found that this group was qualitatively different from the main bulk of the data, you should treat this as an additional data cluster in this analysis. Make sure that you account for the number of data points in this subset, for both the general population and customer datasets, when making your computations!\n",
    "- Which cluster or clusters are overrepresented in the customer dataset compared to the general population? Select at least one such cluster and infer what kind of people might be represented by that cluster. Use the principal component interpretations from step 2.3 or look at additional components to help you make this inference. Alternatively, you can use the `.inverse_transform()` method of the PCA and StandardScaler objects to transform centroids back to the original data space and interpret the retrieved values directly.\n",
    "- Perform a similar investigation for the underrepresented clusters. Which cluster or clusters are underrepresented in the customer dataset compared to the general population, and what kinds of people are typified by these clusters?"
   ]
  },
  {
   "cell_type": "code",
   "execution_count": 147,
   "metadata": {},
   "outputs": [],
   "source": [
    "# Compare the proportion of data in each cluster for the customer data to the\n",
    "# proportion of data in each cluster for the general population.\n",
    "\n",
    "#Inclusding excluded rows as new cluster\n",
    "azdias_predict_inc = np.append(azdias_predict,[13]*(len(azdias)-len(azdias_predict)))\n",
    "customers_predict_inc = np.append(customers_predict,[13]*(len_customers-len(customers_predict)))\n",
    "\n",
    "azdias_predict_inc = pd.Series(azdias_predict_inc)\n",
    "customers_predict_inc = pd.Series(customers_predict_inc)"
   ]
  },
  {
   "cell_type": "code",
   "execution_count": 186,
   "metadata": {},
   "outputs": [],
   "source": [
    "def plot_compare(s1,s2,t1,t2):\n",
    "    plt.figure(figsize=(20,5))\n",
    "    plt.subplot(1,2,1)\n",
    "    ax1 = sns.countplot(s1, color=sns.color_palette()[0]);\n",
    "    for p in ax1.patches:\n",
    "        ax1.annotate('{:.2f}%'.format(p.get_height()*100/len(s1)), (p.get_x(), p.get_height()+p.get_height()/1000))\n",
    "    plt.title(t1)\n",
    "\n",
    "    plt.subplot(1,2,2)\n",
    "    ax2 = sns.countplot(s2, color=sns.color_palette()[0]);\n",
    "    for p in ax2.patches:\n",
    "        ax2.annotate('{:.2f}%'.format(p.get_height()*100/len(s2)), (p.get_x(), p.get_height()+p.get_height()/1000))\n",
    "    plt.title(t2);"
   ]
  },
  {
   "cell_type": "code",
   "execution_count": 188,
   "metadata": {},
   "outputs": [
    {
     "data": {
      "image/png": "[encoded data removed]",
      "text/plain": [
       "<matplotlib.figure.Figure at 0x7f1525e93668>"
      ]
     },
     "metadata": {
      "needs_background": "light"
     },
     "output_type": "display_data"
    }
   ],
   "source": [
    "plot_compare(azdias_predict_inc,customers_predict_inc,'General Population','Customers');"
   ]
  },
  {
   "cell_type": "code",
   "execution_count": 239,
   "metadata": {},
   "outputs": [],
   "source": [
    "azdias_dense_reversed = pd.DataFrame(scaler.inverse_transform(azdias_dense),columns=azdias_dense.columns)\n",
    "customers_dense_reversed = pd.DataFrame(np.round(scaler.inverse_transform(pca63.inverse_transform(customers_)),0),columns=customers_clean.columns)"
   ]
  },
  {
   "cell_type": "code",
   "execution_count": 241,
   "metadata": {},
   "outputs": [
    {
     "data": {
      "text/html": [
       "<div>\n",
       "<style>\n",
       "    .dataframe thead tr:only-child th {\n",
       "        text-align: right;\n",
       "    }\n",
       "\n",
       "    .dataframe thead th {\n",
       "        text-align: left;\n",
       "    }\n",
       "\n",
       "    .dataframe tbody tr th {\n",
       "        vertical-align: top;\n",
       "    }\n",
       "</style>\n",
       "<table border=\"1\" class=\"dataframe\">\n",
       "  <thead>\n",
       "    <tr style=\"text-align: right;\">\n",
       "      <th></th>\n",
       "      <th>ALTERSKATEGORIE_GROB</th>\n",
       "      <th>ANREDE_KZ</th>\n",
       "      <th>FINANZ_MINIMALIST</th>\n",
       "      <th>FINANZ_SPARER</th>\n",
       "      <th>FINANZ_VORSORGER</th>\n",
       "      <th>FINANZ_ANLEGER</th>\n",
       "      <th>FINANZ_UNAUFFAELLIGER</th>\n",
       "      <th>FINANZ_HAUSBAUER</th>\n",
       "      <th>GEBURTSJAHR</th>\n",
       "      <th>GREEN_AVANTGARDE</th>\n",
       "      <th>...</th>\n",
       "      <th>CAMEO_INTL_2015_wealth_Less Affluent Households</th>\n",
       "      <th>CAMEO_INTL_2015_wealth_Poorer Households</th>\n",
       "      <th>CAMEO_INTL_2015_wealth_Prosperous Households</th>\n",
       "      <th>CAMEO_INTL_2015_wealth_Wealthy Households</th>\n",
       "      <th>CAMEO_INTL_2015_life_stage_Elders In Retirement</th>\n",
       "      <th>CAMEO_INTL_2015_life_stage_Families With School Age Children</th>\n",
       "      <th>CAMEO_INTL_2015_life_stage_Older Families &amp;  Mature Couples</th>\n",
       "      <th>CAMEO_INTL_2015_life_stage_Older Families &amp; Mature Couples</th>\n",
       "      <th>CAMEO_INTL_2015_life_stage_Pre-Family Couples &amp; Singles</th>\n",
       "      <th>CAMEO_INTL_2015_life_stage_Young Couples With Children</th>\n",
       "    </tr>\n",
       "  </thead>\n",
       "  <tbody>\n",
       "    <tr>\n",
       "      <th>0</th>\n",
       "      <td>4.0</td>\n",
       "      <td>1.0</td>\n",
       "      <td>5.0</td>\n",
       "      <td>1.0</td>\n",
       "      <td>5.0</td>\n",
       "      <td>1.0</td>\n",
       "      <td>2.0</td>\n",
       "      <td>2.0</td>\n",
       "      <td>39.0</td>\n",
       "      <td>1.0</td>\n",
       "      <td>...</td>\n",
       "      <td>-0.0</td>\n",
       "      <td>0.0</td>\n",
       "      <td>-0.0</td>\n",
       "      <td>1.0</td>\n",
       "      <td>-0.0</td>\n",
       "      <td>1.0</td>\n",
       "      <td>-0.0</td>\n",
       "      <td>-0.0</td>\n",
       "      <td>-0.0</td>\n",
       "      <td>-0.0</td>\n",
       "    </tr>\n",
       "    <tr>\n",
       "      <th>4</th>\n",
       "      <td>3.0</td>\n",
       "      <td>1.0</td>\n",
       "      <td>5.0</td>\n",
       "      <td>1.0</td>\n",
       "      <td>5.0</td>\n",
       "      <td>1.0</td>\n",
       "      <td>2.0</td>\n",
       "      <td>3.0</td>\n",
       "      <td>42.0</td>\n",
       "      <td>1.0</td>\n",
       "      <td>...</td>\n",
       "      <td>0.0</td>\n",
       "      <td>0.0</td>\n",
       "      <td>-0.0</td>\n",
       "      <td>-0.0</td>\n",
       "      <td>-0.0</td>\n",
       "      <td>-0.0</td>\n",
       "      <td>-0.0</td>\n",
       "      <td>1.0</td>\n",
       "      <td>0.0</td>\n",
       "      <td>0.0</td>\n",
       "    </tr>\n",
       "    <tr>\n",
       "      <th>5</th>\n",
       "      <td>4.0</td>\n",
       "      <td>1.0</td>\n",
       "      <td>5.0</td>\n",
       "      <td>1.0</td>\n",
       "      <td>5.0</td>\n",
       "      <td>1.0</td>\n",
       "      <td>1.0</td>\n",
       "      <td>2.0</td>\n",
       "      <td>1947.0</td>\n",
       "      <td>1.0</td>\n",
       "      <td>...</td>\n",
       "      <td>0.0</td>\n",
       "      <td>0.0</td>\n",
       "      <td>1.0</td>\n",
       "      <td>-0.0</td>\n",
       "      <td>0.0</td>\n",
       "      <td>1.0</td>\n",
       "      <td>-0.0</td>\n",
       "      <td>0.0</td>\n",
       "      <td>0.0</td>\n",
       "      <td>0.0</td>\n",
       "    </tr>\n",
       "    <tr>\n",
       "      <th>6</th>\n",
       "      <td>4.0</td>\n",
       "      <td>1.0</td>\n",
       "      <td>5.0</td>\n",
       "      <td>1.0</td>\n",
       "      <td>5.0</td>\n",
       "      <td>1.0</td>\n",
       "      <td>2.0</td>\n",
       "      <td>2.0</td>\n",
       "      <td>1935.0</td>\n",
       "      <td>1.0</td>\n",
       "      <td>...</td>\n",
       "      <td>-0.0</td>\n",
       "      <td>0.0</td>\n",
       "      <td>-0.0</td>\n",
       "      <td>1.0</td>\n",
       "      <td>1.0</td>\n",
       "      <td>-0.0</td>\n",
       "      <td>-0.0</td>\n",
       "      <td>-0.0</td>\n",
       "      <td>-0.0</td>\n",
       "      <td>-0.0</td>\n",
       "    </tr>\n",
       "    <tr>\n",
       "      <th>8</th>\n",
       "      <td>3.0</td>\n",
       "      <td>1.0</td>\n",
       "      <td>5.0</td>\n",
       "      <td>2.0</td>\n",
       "      <td>4.0</td>\n",
       "      <td>1.0</td>\n",
       "      <td>3.0</td>\n",
       "      <td>1.0</td>\n",
       "      <td>1957.0</td>\n",
       "      <td>1.0</td>\n",
       "      <td>...</td>\n",
       "      <td>0.0</td>\n",
       "      <td>0.0</td>\n",
       "      <td>-0.0</td>\n",
       "      <td>1.0</td>\n",
       "      <td>1.0</td>\n",
       "      <td>-0.0</td>\n",
       "      <td>-0.0</td>\n",
       "      <td>-0.0</td>\n",
       "      <td>0.0</td>\n",
       "      <td>-0.0</td>\n",
       "    </tr>\n",
       "  </tbody>\n",
       "</table>\n",
       "<p>5 rows × 81 columns</p>\n",
       "</div>"
      ],
      "text/plain": [
       "   ALTERSKATEGORIE_GROB  ANREDE_KZ  FINANZ_MINIMALIST  FINANZ_SPARER  \\\n",
       "0                   4.0        1.0                5.0            1.0   \n",
       "4                   3.0        1.0                5.0            1.0   \n",
       "5                   4.0        1.0                5.0            1.0   \n",
       "6                   4.0        1.0                5.0            1.0   \n",
       "8                   3.0        1.0                5.0            2.0   \n",
       "\n",
       "   FINANZ_VORSORGER  FINANZ_ANLEGER  FINANZ_UNAUFFAELLIGER  FINANZ_HAUSBAUER  \\\n",
       "0               5.0             1.0                    2.0               2.0   \n",
       "4               5.0             1.0                    2.0               3.0   \n",
       "5               5.0             1.0                    1.0               2.0   \n",
       "6               5.0             1.0                    2.0               2.0   \n",
       "8               4.0             1.0                    3.0               1.0   \n",
       "\n",
       "   GEBURTSJAHR  GREEN_AVANTGARDE  \\\n",
       "0         39.0               1.0   \n",
       "4         42.0               1.0   \n",
       "5       1947.0               1.0   \n",
       "6       1935.0               1.0   \n",
       "8       1957.0               1.0   \n",
       "\n",
       "                            ...                            \\\n",
       "0                           ...                             \n",
       "4                           ...                             \n",
       "5                           ...                             \n",
       "6                           ...                             \n",
       "8                           ...                             \n",
       "\n",
       "   CAMEO_INTL_2015_wealth_Less Affluent Households  \\\n",
       "0                                             -0.0   \n",
       "4                                              0.0   \n",
       "5                                              0.0   \n",
       "6                                             -0.0   \n",
       "8                                              0.0   \n",
       "\n",
       "   CAMEO_INTL_2015_wealth_Poorer Households  \\\n",
       "0                                       0.0   \n",
       "4                                       0.0   \n",
       "5                                       0.0   \n",
       "6                                       0.0   \n",
       "8                                       0.0   \n",
       "\n",
       "   CAMEO_INTL_2015_wealth_Prosperous Households  \\\n",
       "0                                          -0.0   \n",
       "4                                          -0.0   \n",
       "5                                           1.0   \n",
       "6                                          -0.0   \n",
       "8                                          -0.0   \n",
       "\n",
       "   CAMEO_INTL_2015_wealth_Wealthy Households  \\\n",
       "0                                        1.0   \n",
       "4                                       -0.0   \n",
       "5                                       -0.0   \n",
       "6                                        1.0   \n",
       "8                                        1.0   \n",
       "\n",
       "   CAMEO_INTL_2015_life_stage_Elders In Retirement  \\\n",
       "0                                             -0.0   \n",
       "4                                             -0.0   \n",
       "5                                              0.0   \n",
       "6                                              1.0   \n",
       "8                                              1.0   \n",
       "\n",
       "   CAMEO_INTL_2015_life_stage_Families With School Age Children  \\\n",
       "0                                                1.0              \n",
       "4                                               -0.0              \n",
       "5                                                1.0              \n",
       "6                                               -0.0              \n",
       "8                                               -0.0              \n",
       "\n",
       "   CAMEO_INTL_2015_life_stage_Older Families &  Mature Couples  \\\n",
       "0                                               -0.0             \n",
       "4                                               -0.0             \n",
       "5                                               -0.0             \n",
       "6                                               -0.0             \n",
       "8                                               -0.0             \n",
       "\n",
       "   CAMEO_INTL_2015_life_stage_Older Families & Mature Couples  \\\n",
       "0                                               -0.0            \n",
       "4                                                1.0            \n",
       "5                                                0.0            \n",
       "6                                               -0.0            \n",
       "8                                               -0.0            \n",
       "\n",
       "   CAMEO_INTL_2015_life_stage_Pre-Family Couples & Singles  \\\n",
       "0                                               -0.0         \n",
       "4                                                0.0         \n",
       "5                                                0.0         \n",
       "6                                               -0.0         \n",
       "8                                                0.0         \n",
       "\n",
       "   CAMEO_INTL_2015_life_stage_Young Couples With Children  \n",
       "0                                               -0.0       \n",
       "4                                                0.0       \n",
       "5                                                0.0       \n",
       "6                                               -0.0       \n",
       "8                                               -0.0       \n",
       "\n",
       "[5 rows x 81 columns]"
      ]
     },
     "execution_count": 241,
     "metadata": {},
     "output_type": "execute_result"
    }
   ],
   "source": [
    "# What kinds of people are part of a cluster that is overrepresented in the\n",
    "# customer data compared to the general population?\n",
    "\n",
    "popular = customers_dense_reversed[customers_dense_reversed.index.isin(customers_predict_inc[customers_predict_inc==1].index)]\n",
    "popular.head()"
   ]
  },
  {
   "cell_type": "code",
   "execution_count": 242,
   "metadata": {},
   "outputs": [
    {
     "data": {
      "text/html": [
       "<div>\n",
       "<style>\n",
       "    .dataframe thead tr:only-child th {\n",
       "        text-align: right;\n",
       "    }\n",
       "\n",
       "    .dataframe thead th {\n",
       "        text-align: left;\n",
       "    }\n",
       "\n",
       "    .dataframe tbody tr th {\n",
       "        vertical-align: top;\n",
       "    }\n",
       "</style>\n",
       "<table border=\"1\" class=\"dataframe\">\n",
       "  <thead>\n",
       "    <tr style=\"text-align: right;\">\n",
       "      <th></th>\n",
       "      <th>ALTERSKATEGORIE_GROB</th>\n",
       "      <th>ANREDE_KZ</th>\n",
       "      <th>FINANZ_MINIMALIST</th>\n",
       "      <th>FINANZ_SPARER</th>\n",
       "      <th>FINANZ_VORSORGER</th>\n",
       "      <th>FINANZ_ANLEGER</th>\n",
       "      <th>FINANZ_UNAUFFAELLIGER</th>\n",
       "      <th>FINANZ_HAUSBAUER</th>\n",
       "      <th>GEBURTSJAHR</th>\n",
       "      <th>GREEN_AVANTGARDE</th>\n",
       "      <th>...</th>\n",
       "      <th>CAMEO_INTL_2015_wealth_Less Affluent Households</th>\n",
       "      <th>CAMEO_INTL_2015_wealth_Poorer Households</th>\n",
       "      <th>CAMEO_INTL_2015_wealth_Prosperous Households</th>\n",
       "      <th>CAMEO_INTL_2015_wealth_Wealthy Households</th>\n",
       "      <th>CAMEO_INTL_2015_life_stage_Elders In Retirement</th>\n",
       "      <th>CAMEO_INTL_2015_life_stage_Families With School Age Children</th>\n",
       "      <th>CAMEO_INTL_2015_life_stage_Older Families &amp;  Mature Couples</th>\n",
       "      <th>CAMEO_INTL_2015_life_stage_Older Families &amp; Mature Couples</th>\n",
       "      <th>CAMEO_INTL_2015_life_stage_Pre-Family Couples &amp; Singles</th>\n",
       "      <th>CAMEO_INTL_2015_life_stage_Young Couples With Children</th>\n",
       "    </tr>\n",
       "  </thead>\n",
       "  <tbody>\n",
       "    <tr>\n",
       "      <th>0</th>\n",
       "      <td>1.0</td>\n",
       "      <td>2.0</td>\n",
       "      <td>1.0</td>\n",
       "      <td>5.0</td>\n",
       "      <td>2.0</td>\n",
       "      <td>5.0</td>\n",
       "      <td>4.0</td>\n",
       "      <td>5.0</td>\n",
       "      <td>1996.000000</td>\n",
       "      <td>2.775558e-17</td>\n",
       "      <td>...</td>\n",
       "      <td>0.0</td>\n",
       "      <td>1.0</td>\n",
       "      <td>0.0</td>\n",
       "      <td>0.0</td>\n",
       "      <td>0.0</td>\n",
       "      <td>0.0</td>\n",
       "      <td>0.0</td>\n",
       "      <td>0.0</td>\n",
       "      <td>1.0</td>\n",
       "      <td>0.0</td>\n",
       "    </tr>\n",
       "    <tr>\n",
       "      <th>4</th>\n",
       "      <td>1.0</td>\n",
       "      <td>2.0</td>\n",
       "      <td>3.0</td>\n",
       "      <td>1.0</td>\n",
       "      <td>5.0</td>\n",
       "      <td>2.0</td>\n",
       "      <td>2.0</td>\n",
       "      <td>5.0</td>\n",
       "      <td>1943.000000</td>\n",
       "      <td>2.775558e-17</td>\n",
       "      <td>...</td>\n",
       "      <td>0.0</td>\n",
       "      <td>1.0</td>\n",
       "      <td>0.0</td>\n",
       "      <td>0.0</td>\n",
       "      <td>0.0</td>\n",
       "      <td>0.0</td>\n",
       "      <td>0.0</td>\n",
       "      <td>1.0</td>\n",
       "      <td>0.0</td>\n",
       "      <td>0.0</td>\n",
       "    </tr>\n",
       "    <tr>\n",
       "      <th>5</th>\n",
       "      <td>2.0</td>\n",
       "      <td>2.0</td>\n",
       "      <td>1.0</td>\n",
       "      <td>5.0</td>\n",
       "      <td>1.0</td>\n",
       "      <td>5.0</td>\n",
       "      <td>4.0</td>\n",
       "      <td>3.0</td>\n",
       "      <td>38.835443</td>\n",
       "      <td>2.775558e-17</td>\n",
       "      <td>...</td>\n",
       "      <td>0.0</td>\n",
       "      <td>0.0</td>\n",
       "      <td>1.0</td>\n",
       "      <td>0.0</td>\n",
       "      <td>0.0</td>\n",
       "      <td>0.0</td>\n",
       "      <td>0.0</td>\n",
       "      <td>0.0</td>\n",
       "      <td>0.0</td>\n",
       "      <td>1.0</td>\n",
       "    </tr>\n",
       "    <tr>\n",
       "      <th>13</th>\n",
       "      <td>1.0</td>\n",
       "      <td>2.0</td>\n",
       "      <td>4.0</td>\n",
       "      <td>3.0</td>\n",
       "      <td>1.0</td>\n",
       "      <td>4.0</td>\n",
       "      <td>5.0</td>\n",
       "      <td>1.0</td>\n",
       "      <td>1988.000000</td>\n",
       "      <td>2.775558e-17</td>\n",
       "      <td>...</td>\n",
       "      <td>1.0</td>\n",
       "      <td>0.0</td>\n",
       "      <td>0.0</td>\n",
       "      <td>0.0</td>\n",
       "      <td>0.0</td>\n",
       "      <td>0.0</td>\n",
       "      <td>0.0</td>\n",
       "      <td>0.0</td>\n",
       "      <td>1.0</td>\n",
       "      <td>0.0</td>\n",
       "    </tr>\n",
       "    <tr>\n",
       "      <th>24</th>\n",
       "      <td>2.0</td>\n",
       "      <td>2.0</td>\n",
       "      <td>1.0</td>\n",
       "      <td>5.0</td>\n",
       "      <td>2.0</td>\n",
       "      <td>3.0</td>\n",
       "      <td>5.0</td>\n",
       "      <td>4.0</td>\n",
       "      <td>32.139241</td>\n",
       "      <td>2.775558e-17</td>\n",
       "      <td>...</td>\n",
       "      <td>0.0</td>\n",
       "      <td>1.0</td>\n",
       "      <td>0.0</td>\n",
       "      <td>0.0</td>\n",
       "      <td>0.0</td>\n",
       "      <td>0.0</td>\n",
       "      <td>0.0</td>\n",
       "      <td>0.0</td>\n",
       "      <td>1.0</td>\n",
       "      <td>0.0</td>\n",
       "    </tr>\n",
       "  </tbody>\n",
       "</table>\n",
       "<p>5 rows × 81 columns</p>\n",
       "</div>"
      ],
      "text/plain": [
       "    ALTERSKATEGORIE_GROB  ANREDE_KZ  FINANZ_MINIMALIST  FINANZ_SPARER  \\\n",
       "0                    1.0        2.0                1.0            5.0   \n",
       "4                    1.0        2.0                3.0            1.0   \n",
       "5                    2.0        2.0                1.0            5.0   \n",
       "13                   1.0        2.0                4.0            3.0   \n",
       "24                   2.0        2.0                1.0            5.0   \n",
       "\n",
       "    FINANZ_VORSORGER  FINANZ_ANLEGER  FINANZ_UNAUFFAELLIGER  FINANZ_HAUSBAUER  \\\n",
       "0                2.0             5.0                    4.0               5.0   \n",
       "4                5.0             2.0                    2.0               5.0   \n",
       "5                1.0             5.0                    4.0               3.0   \n",
       "13               1.0             4.0                    5.0               1.0   \n",
       "24               2.0             3.0                    5.0               4.0   \n",
       "\n",
       "    GEBURTSJAHR  GREEN_AVANTGARDE  \\\n",
       "0   1996.000000      2.775558e-17   \n",
       "4   1943.000000      2.775558e-17   \n",
       "5     38.835443      2.775558e-17   \n",
       "13  1988.000000      2.775558e-17   \n",
       "24    32.139241      2.775558e-17   \n",
       "\n",
       "                             ...                            \\\n",
       "0                            ...                             \n",
       "4                            ...                             \n",
       "5                            ...                             \n",
       "13                           ...                             \n",
       "24                           ...                             \n",
       "\n",
       "    CAMEO_INTL_2015_wealth_Less Affluent Households  \\\n",
       "0                                               0.0   \n",
       "4                                               0.0   \n",
       "5                                               0.0   \n",
       "13                                              1.0   \n",
       "24                                              0.0   \n",
       "\n",
       "    CAMEO_INTL_2015_wealth_Poorer Households  \\\n",
       "0                                        1.0   \n",
       "4                                        1.0   \n",
       "5                                        0.0   \n",
       "13                                       0.0   \n",
       "24                                       1.0   \n",
       "\n",
       "    CAMEO_INTL_2015_wealth_Prosperous Households  \\\n",
       "0                                            0.0   \n",
       "4                                            0.0   \n",
       "5                                            1.0   \n",
       "13                                           0.0   \n",
       "24                                           0.0   \n",
       "\n",
       "    CAMEO_INTL_2015_wealth_Wealthy Households  \\\n",
       "0                                         0.0   \n",
       "4                                         0.0   \n",
       "5                                         0.0   \n",
       "13                                        0.0   \n",
       "24                                        0.0   \n",
       "\n",
       "    CAMEO_INTL_2015_life_stage_Elders In Retirement  \\\n",
       "0                                               0.0   \n",
       "4                                               0.0   \n",
       "5                                               0.0   \n",
       "13                                              0.0   \n",
       "24                                              0.0   \n",
       "\n",
       "    CAMEO_INTL_2015_life_stage_Families With School Age Children  \\\n",
       "0                                                 0.0              \n",
       "4                                                 0.0              \n",
       "5                                                 0.0              \n",
       "13                                                0.0              \n",
       "24                                                0.0              \n",
       "\n",
       "    CAMEO_INTL_2015_life_stage_Older Families &  Mature Couples  \\\n",
       "0                                                 0.0             \n",
       "4                                                 0.0             \n",
       "5                                                 0.0             \n",
       "13                                                0.0             \n",
       "24                                                0.0             \n",
       "\n",
       "    CAMEO_INTL_2015_life_stage_Older Families & Mature Couples  \\\n",
       "0                                                 0.0            \n",
       "4                                                 1.0            \n",
       "5                                                 0.0            \n",
       "13                                                0.0            \n",
       "24                                                0.0            \n",
       "\n",
       "    CAMEO_INTL_2015_life_stage_Pre-Family Couples & Singles  \\\n",
       "0                                                 1.0         \n",
       "4                                                 0.0         \n",
       "5                                                 0.0         \n",
       "13                                                1.0         \n",
       "24                                                1.0         \n",
       "\n",
       "    CAMEO_INTL_2015_life_stage_Young Couples With Children  \n",
       "0                                                 0.0       \n",
       "4                                                 0.0       \n",
       "5                                                 1.0       \n",
       "13                                                0.0       \n",
       "24                                                0.0       \n",
       "\n",
       "[5 rows x 81 columns]"
      ]
     },
     "execution_count": 242,
     "metadata": {},
     "output_type": "execute_result"
    }
   ],
   "source": [
    "# What kinds of people are part of a cluster that is underrepresented in the\n",
    "# customer data compared to the general population?\n",
    "\n",
    "unpopular = azdias_dense_reversed[azdias_dense_reversed.index.isin(azdias_predict_inc[azdias_predict_inc==11].index)]\n",
    "unpopular.head()"
   ]
  },
  {
   "cell_type": "code",
   "execution_count": 191,
   "metadata": {},
   "outputs": [],
   "source": [
    "def plot_compare_by_col(col):\n",
    "    plot_compare(popular[col],unpopular[col],'Traget Population', 'Avoiding Population')"
   ]
  },
  {
   "cell_type": "markdown",
   "metadata": {},
   "source": [
    "### Discussion 3.3: Compare Customer Data to Demographics Data\n",
    "\n",
    "\n",
    "For features from PCA that we noticed are at extreme, we can compare the data of customers and general population.\n",
    "\n",
    "Considering one Financial typology, Gender, and one Personality typology for explanation.\n",
    "\n",
    "FINANZ_HAUSBAUER: \n",
    "Financial typology, for each dimension:\n",
    "- -1: unknown\n",
    "-  1: very high\n",
    "-  2: high\n",
    "-  3: average\n",
    "-  4: low\n",
    "-  5: very low\n",
    "\n",
    "For this feature we can from below plot, that they are targeting customers with own house."
   ]
  },
  {
   "cell_type": "code",
   "execution_count": 246,
   "metadata": {},
   "outputs": [
    {
     "data": {
      "image/png": "[encoded data removed]",
      "text/plain": [
       "<matplotlib.figure.Figure at 0x7f1422d674e0>"
      ]
     },
     "metadata": {
      "needs_background": "light"
     },
     "output_type": "display_data"
    }
   ],
   "source": [
    "plot_compare_by_col('FINANZ_HAUSBAUER')"
   ]
  },
  {
   "cell_type": "markdown",
   "metadata": {},
   "source": [
    "Considering feature ANREDE_KZ:\n",
    "Gender\n",
    "- -1: unknown (missing)\n",
    "-  0: unknown (cannot be determined)\n",
    "-  1: male\n",
    "-  2: female\n",
    "\n",
    "From below plot, we can infer that most of the targeted audience are male."
   ]
  },
  {
   "cell_type": "code",
   "execution_count": 247,
   "metadata": {},
   "outputs": [
    {
     "data": {
      "image/png": "[encoded data removed]",
      "text/plain": [
       "<matplotlib.figure.Figure at 0x7f14e9845908>"
      ]
     },
     "metadata": {
      "needs_background": "light"
     },
     "output_type": "display_data"
    }
   ],
   "source": [
    "plot_compare_by_col('ANREDE_KZ');"
   ]
  },
  {
   "cell_type": "markdown",
   "metadata": {},
   "source": [
    "### SEMIO_ERL Personality typology, event-oriented:\n",
    "- -1: unknown\n",
    "-  1: highest affinity\n",
    "-  2: very high affinity\n",
    "-  3: high affinity\n",
    "-  4: average affinity\n",
    "-  5: low affinity\n",
    "-  6: very low affinity\n",
    "-  7: lowest affinity\n",
    "-  9: unknown\n",
    "\n",
    "\n",
    "Targeted those customers that have, on average, event oriented Personality (Active participant in social events). As opposed to other that are highly active(becuase they may already have other dealers involved) or not acitve at all(not potential customers)."
   ]
  },
  {
   "cell_type": "code",
   "execution_count": 251,
   "metadata": {},
   "outputs": [
    {
     "data": {
      "image/png": "[encoded data removed]",
      "text/plain": [
       "<matplotlib.figure.Figure at 0x7f14e8b81780>"
      ]
     },
     "metadata": {
      "needs_background": "light"
     },
     "output_type": "display_data"
    }
   ],
   "source": [
    "plot_compare_by_col('SEMIO_ERL');"
   ]
  },
  {
   "cell_type": "markdown",
   "metadata": {},
   "source": [
    "> Congratulations on making it this far in the project! Before you finish, make sure to check through the entire notebook from top to bottom to make sure that your analysis follows a logical flow and all of your findings are documented in **Discussion** cells. Once you've checked over all of your work, you should export the notebook as an HTML document to submit for evaluation. You can do this from the menu, navigating to **File -> Download as -> HTML (.html)**. You will submit both that document and this notebook for your project submission."
   ]
  }
 ],
 "metadata": {
  "kernelspec": {
   "display_name": "Python 3",
   "language": "python",
   "name": "python3"
  },
  "language_info": {
   "codemirror_mode": {
    "name": "ipython",
    "version": 3
   },
   "file_extension": ".py",
   "mimetype": "text/x-python",
   "name": "python",
   "nbconvert_exporter": "python",
   "pygments_lexer": "ipython3",
   "version": "3.6.3"
  }
 },
 "nbformat": 4,
 "nbformat_minor": 2
}
